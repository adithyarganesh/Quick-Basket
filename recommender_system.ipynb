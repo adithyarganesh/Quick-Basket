{
 "cells": [
  {
   "cell_type": "code",
   "execution_count": 1,
   "metadata": {
    "collapsed": true
   },
   "outputs": [],
   "source": [
    "# import json \n",
    "# import gzip \n",
    "# def parse(path): \n",
    "#     g = gzip.open(path, 'r') \n",
    "#     for l in g: \n",
    "#         yield json.dumps(eval(l)) "
   ]
  },
  {
   "cell_type": "code",
   "execution_count": 2,
   "metadata": {
    "collapsed": true
   },
   "outputs": [],
   "source": [
    "# f = open(\"output.strict\", 'w') \n",
    "# for l in parse(\"reviews_Video_Games.json.gz\"): \n",
    "#     f.write(l + '\\n')"
   ]
  },
  {
   "cell_type": "markdown",
   "metadata": {},
   "source": [
    "# If dataset is not in extracted format"
   ]
  },
  {
   "cell_type": "code",
   "execution_count": 10,
   "metadata": {
    "collapsed": true
   },
   "outputs": [],
   "source": [
    "import pandas as pd \n",
    "import gzip\n",
    "import numpy as np"
   ]
  },
  {
   "cell_type": "code",
   "execution_count": 2,
   "metadata": {
    "collapsed": true
   },
   "outputs": [],
   "source": [
    "def parse(path): \n",
    "    g = gzip.open(path, 'rb') \n",
    "    for l in g: \n",
    "        yield eval(l)"
   ]
  },
  {
   "cell_type": "code",
   "execution_count": 3,
   "metadata": {
    "collapsed": true
   },
   "outputs": [],
   "source": [
    "def getDF(path): \n",
    "    i = 0 \n",
    "    df = {} \n",
    "    for d in parse(path): \n",
    "        df[i] = d \n",
    "        i += 1 \n",
    "    return pd.DataFrame.from_dict(df, orient='index') "
   ]
  },
  {
   "cell_type": "code",
   "execution_count": 5,
   "metadata": {
    "collapsed": true
   },
   "outputs": [],
   "source": [
    "df = getDF('meta_Clothing_Shoes_and_Jewelry.json.gz') "
   ]
  },
  {
   "cell_type": "code",
   "execution_count": 6,
   "metadata": {
    "collapsed": true
   },
   "outputs": [],
   "source": [
    "# df = getDF('reviews_Clothing_Shoes_and_Jewelry_5.json.gz') "
   ]
  },
  {
   "cell_type": "code",
   "execution_count": 7,
   "metadata": {},
   "outputs": [],
   "source": [
    "df.to_csv(\"Amazon product data.csv\", index = False)\n",
    "# dataframe = pd.read_csv('Amazon product data')"
   ]
  },
  {
   "cell_type": "code",
   "execution_count": 8,
   "metadata": {},
   "outputs": [
    {
     "name": "stdout",
     "output_type": "stream",
     "text": [
      "<class 'pandas.core.frame.DataFrame'>\n",
      "RangeIndex: 1503384 entries, 0 to 1503383\n",
      "Data columns (total 9 columns):\n",
      "salesRank      1422273 non-null object\n",
      "brand          97407 non-null object\n",
      "categories     1503384 non-null object\n",
      "related        1057123 non-null object\n",
      "asin           1503384 non-null object\n",
      "title          1502696 non-null object\n",
      "price          574882 non-null float64\n",
      "imUrl          1503305 non-null object\n",
      "description    84781 non-null object\n",
      "dtypes: float64(1), object(8)\n",
      "memory usage: 103.2+ MB\n"
     ]
    }
   ],
   "source": [
    "dataframe = pd.read_csv('Amazon product data')\n",
    "dataframe.info()"
   ]
  },
  {
   "cell_type": "code",
   "execution_count": 9,
   "metadata": {},
   "outputs": [
    {
     "data": {
      "text/html": [
       "<div>\n",
       "<style>\n",
       "    .dataframe thead tr:only-child th {\n",
       "        text-align: right;\n",
       "    }\n",
       "\n",
       "    .dataframe thead th {\n",
       "        text-align: left;\n",
       "    }\n",
       "\n",
       "    .dataframe tbody tr th {\n",
       "        vertical-align: top;\n",
       "    }\n",
       "</style>\n",
       "<table border=\"1\" class=\"dataframe\">\n",
       "  <thead>\n",
       "    <tr style=\"text-align: right;\">\n",
       "      <th></th>\n",
       "      <th>salesRank</th>\n",
       "      <th>brand</th>\n",
       "      <th>categories</th>\n",
       "      <th>related</th>\n",
       "      <th>asin</th>\n",
       "      <th>title</th>\n",
       "      <th>price</th>\n",
       "      <th>imUrl</th>\n",
       "      <th>description</th>\n",
       "    </tr>\n",
       "  </thead>\n",
       "  <tbody>\n",
       "    <tr>\n",
       "      <th>0</th>\n",
       "      <td>{'Clothing': 1233557}</td>\n",
       "      <td>Big Dreams</td>\n",
       "      <td>[['Clothing, Shoes &amp; Jewelry', 'Girls'], ['Clo...</td>\n",
       "      <td>{'also_viewed': ['B00JO8II76', 'B00DGN4R1Q', '...</td>\n",
       "      <td>0000037214</td>\n",
       "      <td>Purple Sequin Tiny Dancer Tutu Ballet Dance Fa...</td>\n",
       "      <td>6.99</td>\n",
       "      <td>http://ecx.images-amazon.com/images/I/31mCncNu...</td>\n",
       "      <td>NaN</td>\n",
       "    </tr>\n",
       "    <tr>\n",
       "      <th>1</th>\n",
       "      <td>{'Sports &amp;amp; Outdoors': 8547}</td>\n",
       "      <td>Boutique Cutie</td>\n",
       "      <td>[['Clothing, Shoes &amp; Jewelry', 'Girls', 'Cloth...</td>\n",
       "      <td>{'also_viewed': ['B00E1YRI4C', 'B00D23MC6W', '...</td>\n",
       "      <td>0000031887</td>\n",
       "      <td>Ballet Dress-Up Fairy Tutu</td>\n",
       "      <td>6.79</td>\n",
       "      <td>http://ecx.images-amazon.com/images/I/314qZjYe...</td>\n",
       "      <td>This adorable basic ballerina tutu is perfect ...</td>\n",
       "    </tr>\n",
       "    <tr>\n",
       "      <th>2</th>\n",
       "      <td>{'Kitchen &amp; Dining': 16987}</td>\n",
       "      <td>NaN</td>\n",
       "      <td>[['Clothing, Shoes &amp; Jewelry', 'Novelty, Costu...</td>\n",
       "      <td>{'also_viewed': ['B0006JCGUM', 'B000BMTCK6', '...</td>\n",
       "      <td>0123456479</td>\n",
       "      <td>SHINING IMAGE HUGE PINK LEATHER JEWELRY BOX / ...</td>\n",
       "      <td>64.98</td>\n",
       "      <td>http://ecx.images-amazon.com/images/I/413tGhqo...</td>\n",
       "      <td>Elegance par excellence. Hand-crafted of the f...</td>\n",
       "    </tr>\n",
       "    <tr>\n",
       "      <th>3</th>\n",
       "      <td>{'Clothing': 1180499}</td>\n",
       "      <td>NaN</td>\n",
       "      <td>[['Clothing, Shoes &amp; Jewelry', 'Women', 'Acces...</td>\n",
       "      <td>{'also_viewed': ['B008MTRT1O', 'B00BUG47S4', '...</td>\n",
       "      <td>0456844570</td>\n",
       "      <td>RiZ Women's Beautify Crafted &amp;frac12; Rimmed F...</td>\n",
       "      <td>NaN</td>\n",
       "      <td>http://ecx.images-amazon.com/images/I/31QZTHxv...</td>\n",
       "      <td>NaN</td>\n",
       "    </tr>\n",
       "    <tr>\n",
       "      <th>4</th>\n",
       "      <td>{'Clothing': 1038084}</td>\n",
       "      <td>NaN</td>\n",
       "      <td>[['Clothing, Shoes &amp; Jewelry', 'Women', 'Acces...</td>\n",
       "      <td>{'also_viewed': ['B00A6JD8EA', 'B00BFL4FTA', '...</td>\n",
       "      <td>0456808574</td>\n",
       "      <td>Lantin White Visor Wrap Around Ski Style Aviat...</td>\n",
       "      <td>NaN</td>\n",
       "      <td>http://ecx.images-amazon.com/images/I/31UsrgT5...</td>\n",
       "      <td>NaN</td>\n",
       "    </tr>\n",
       "  </tbody>\n",
       "</table>\n",
       "</div>"
      ],
      "text/plain": [
       "                         salesRank           brand  \\\n",
       "0            {'Clothing': 1233557}      Big Dreams   \n",
       "1  {'Sports &amp; Outdoors': 8547}  Boutique Cutie   \n",
       "2      {'Kitchen & Dining': 16987}             NaN   \n",
       "3            {'Clothing': 1180499}             NaN   \n",
       "4            {'Clothing': 1038084}             NaN   \n",
       "\n",
       "                                          categories  \\\n",
       "0  [['Clothing, Shoes & Jewelry', 'Girls'], ['Clo...   \n",
       "1  [['Clothing, Shoes & Jewelry', 'Girls', 'Cloth...   \n",
       "2  [['Clothing, Shoes & Jewelry', 'Novelty, Costu...   \n",
       "3  [['Clothing, Shoes & Jewelry', 'Women', 'Acces...   \n",
       "4  [['Clothing, Shoes & Jewelry', 'Women', 'Acces...   \n",
       "\n",
       "                                             related        asin  \\\n",
       "0  {'also_viewed': ['B00JO8II76', 'B00DGN4R1Q', '...  0000037214   \n",
       "1  {'also_viewed': ['B00E1YRI4C', 'B00D23MC6W', '...  0000031887   \n",
       "2  {'also_viewed': ['B0006JCGUM', 'B000BMTCK6', '...  0123456479   \n",
       "3  {'also_viewed': ['B008MTRT1O', 'B00BUG47S4', '...  0456844570   \n",
       "4  {'also_viewed': ['B00A6JD8EA', 'B00BFL4FTA', '...  0456808574   \n",
       "\n",
       "                                               title  price  \\\n",
       "0  Purple Sequin Tiny Dancer Tutu Ballet Dance Fa...   6.99   \n",
       "1                         Ballet Dress-Up Fairy Tutu   6.79   \n",
       "2  SHINING IMAGE HUGE PINK LEATHER JEWELRY BOX / ...  64.98   \n",
       "3  RiZ Women's Beautify Crafted &frac12; Rimmed F...    NaN   \n",
       "4  Lantin White Visor Wrap Around Ski Style Aviat...    NaN   \n",
       "\n",
       "                                               imUrl  \\\n",
       "0  http://ecx.images-amazon.com/images/I/31mCncNu...   \n",
       "1  http://ecx.images-amazon.com/images/I/314qZjYe...   \n",
       "2  http://ecx.images-amazon.com/images/I/413tGhqo...   \n",
       "3  http://ecx.images-amazon.com/images/I/31QZTHxv...   \n",
       "4  http://ecx.images-amazon.com/images/I/31UsrgT5...   \n",
       "\n",
       "                                         description  \n",
       "0                                                NaN  \n",
       "1  This adorable basic ballerina tutu is perfect ...  \n",
       "2  Elegance par excellence. Hand-crafted of the f...  \n",
       "3                                                NaN  \n",
       "4                                                NaN  "
      ]
     },
     "execution_count": 9,
     "metadata": {},
     "output_type": "execute_result"
    }
   ],
   "source": [
    "dataframe.head()"
   ]
  },
  {
   "cell_type": "code",
   "execution_count": 15,
   "metadata": {},
   "outputs": [
    {
     "data": {
      "text/html": [
       "<div>\n",
       "<style>\n",
       "    .dataframe thead tr:only-child th {\n",
       "        text-align: right;\n",
       "    }\n",
       "\n",
       "    .dataframe thead th {\n",
       "        text-align: left;\n",
       "    }\n",
       "\n",
       "    .dataframe tbody tr th {\n",
       "        vertical-align: top;\n",
       "    }\n",
       "</style>\n",
       "<table border=\"1\" class=\"dataframe\">\n",
       "  <thead>\n",
       "    <tr style=\"text-align: right;\">\n",
       "      <th></th>\n",
       "      <th>salesRank</th>\n",
       "      <th>brand</th>\n",
       "      <th>categories</th>\n",
       "      <th>related</th>\n",
       "      <th>asin</th>\n",
       "      <th>title</th>\n",
       "      <th>price</th>\n",
       "      <th>imUrl</th>\n",
       "      <th>description</th>\n",
       "    </tr>\n",
       "  </thead>\n",
       "  <tbody>\n",
       "    <tr>\n",
       "      <th>1491658</th>\n",
       "      <td>{'Clothing': 820}</td>\n",
       "      <td>NaN</td>\n",
       "      <td>[['Clothing, Shoes &amp; Jewelry', 'Baby', 'Baby G...</td>\n",
       "      <td>{'also_viewed': ['B00JR2A520', 'B00IUBZJWU', '...</td>\n",
       "      <td>B00JO8II76</td>\n",
       "      <td>Urparcel Baby Girls One Piece Floral Dress Lac...</td>\n",
       "      <td>NaN</td>\n",
       "      <td>http://ecx.images-amazon.com/images/I/41MHjgTL...</td>\n",
       "      <td>NaN</td>\n",
       "    </tr>\n",
       "  </tbody>\n",
       "</table>\n",
       "</div>"
      ],
      "text/plain": [
       "                 salesRank brand  \\\n",
       "1491658  {'Clothing': 820}   NaN   \n",
       "\n",
       "                                                categories  \\\n",
       "1491658  [['Clothing, Shoes & Jewelry', 'Baby', 'Baby G...   \n",
       "\n",
       "                                                   related        asin  \\\n",
       "1491658  {'also_viewed': ['B00JR2A520', 'B00IUBZJWU', '...  B00JO8II76   \n",
       "\n",
       "                                                     title  price  \\\n",
       "1491658  Urparcel Baby Girls One Piece Floral Dress Lac...    NaN   \n",
       "\n",
       "                                                     imUrl description  \n",
       "1491658  http://ecx.images-amazon.com/images/I/41MHjgTL...         NaN  "
      ]
     },
     "execution_count": 15,
     "metadata": {},
     "output_type": "execute_result"
    }
   ],
   "source": [
    "# dataframe.loc[dataframe['asin'] == 'B00JO8II76']"
   ]
  },
  {
   "cell_type": "code",
   "execution_count": 11,
   "metadata": {
    "collapsed": true
   },
   "outputs": [],
   "source": [
    "df = dataframe\n"
   ]
  },
  {
   "cell_type": "code",
   "execution_count": 42,
   "metadata": {
    "scrolled": true
   },
   "outputs": [],
   "source": [
    "json_data = df['related'][1].strip()"
   ]
  },
  {
   "cell_type": "code",
   "execution_count": 45,
   "metadata": {},
   "outputs": [],
   "source": [
    "data = json.dumps(json_data)"
   ]
  },
  {
   "cell_type": "code",
   "execution_count": 49,
   "metadata": {},
   "outputs": [],
   "source": [
    "# val = pd.to_json(json_data)\n",
    "player_link = json.dumps(data)\n",
    "with open(\"player_list.json\", \"w\") as f:\n",
    "    f.write(player_link)"
   ]
  },
  {
   "cell_type": "code",
   "execution_count": 56,
   "metadata": {},
   "outputs": [
    {
     "ename": "TypeError",
     "evalue": "read_json() got an unexpected keyword argument 'index'",
     "output_type": "error",
     "traceback": [
      "\u001b[1;31m---------------------------------------------------------------------------\u001b[0m",
      "\u001b[1;31mTypeError\u001b[0m                                 Traceback (most recent call last)",
      "\u001b[1;32m<ipython-input-56-e68ffb43f3d3>\u001b[0m in \u001b[0;36m<module>\u001b[1;34m()\u001b[0m\n\u001b[1;32m----> 1\u001b[1;33m \u001b[0mx\u001b[0m \u001b[1;33m=\u001b[0m \u001b[0mpd\u001b[0m\u001b[1;33m.\u001b[0m\u001b[0mread_json\u001b[0m\u001b[1;33m(\u001b[0m\u001b[1;34m'player_list.json'\u001b[0m\u001b[1;33m,\u001b[0m \u001b[0mindex\u001b[0m  \u001b[1;33m=\u001b[0m \u001b[1;32mTrue\u001b[0m\u001b[1;33m)\u001b[0m\u001b[1;33m\u001b[0m\u001b[0m\n\u001b[0m",
      "\u001b[1;31mTypeError\u001b[0m: read_json() got an unexpected keyword argument 'index'"
     ]
    }
   ],
   "source": [
    "x = pd.read_json('player_list.json', index  = True)"
   ]
  },
  {
   "cell_type": "code",
   "execution_count": 53,
   "metadata": {},
   "outputs": [
    {
     "data": {
      "text/plain": [
       "'\"{\\'also_viewed\\': [\\'B00E1YRI4C\\', \\'B00D23MC6W\\', \\'B00AFDOPDA\\', \\'B00538F5OK\\', \\'B003AVKOP2\\', \\'B008F0SU0Y\\', \\'B004303OEW\\', \\'B002GZPTRQ\\', \\'B002GZGI4E\\', \\'B00HSOJB9M\\', \\'B003IEDM9Q\\', \\'B008F0SMUC\\', \\'B005C4Y4F6\\', \\'B008UD01L2\\', \\'B0071KR2LC\\', \\'B00D0FCQQI\\', \\'B004PYEE8G\\', \\'B003AVNY6I\\', \\'B002C3Y6WG\\', \\'B003L2OASM\\', \\'B00CEUWTFS\\', \\'B004YHFSIO\\', \\'B009RXWNSI\\', \\'B00D2JSRFQ\\', \\'B00I2EOG92\\', \\'B00K18LJ6U\\', \\'B00JHNSNSM\\', \\'B0054TBWKO\\', \\'B003AVEU6G\\', \\'B00CEUWUZC\\', \\'B00D103F8U\\', \\'B00D2JTMS2\\', \\'B008BMGHM4\\', \\'B00CEUX0D8\\', \\'B00JMX4CCS\\', \\'B003WFSLBA\\', \\'B00CEUWY8K\\', \\'0000032050\\', \\'B00GOR07RE\\', \\'B009V5DTDA\\', \\'0000032042\\', \\'B00I3OX1II\\', \\'B008X6CBS2\\', \\'B007XAI4LW\\', \\'B008UBQZKU\\', \\'B00DPLLQR2\\', \\'B007XAI53E\\', \\'0000032034\\', \\'B00K18LKX2\\', \\'B00IIK61WA\\', \\'0000031852\\', \\'B004PEI45K\\', \\'0000031895\\', \\'B00CEUX4QQ\\', \\'B005HMHOQY\\', \\'B008UBG5IW\\', \\'B00E1Q66BG\\', \\'B00HSOJKN4\\', \\'B004ILT36Y\\'], \\'bought_together\\': [\\'B00D23MC6W\\'], \\'also_bought\\': [\\'0000031852\\', \\'0000031895\\', \\'0000031909\\', \\'B00D2K1M3O\\', \\'B00D10CLVW\\', \\'B003AVKOP2\\', \\'B00D103F8U\\', \\'B00613WDTQ\\', \\'B008F0SU0Y\\', \\'B00D23MC6W\\', \\'B00D0GCI8S\\', \\'B00E1YRI4C\\', \\'B008UBQZKU\\', \\'B003AVEU6G\\', \\'B008F0SMUC\\', \\'B002C3Y6WG\\', \\'B005JJ275S\\', \\'B00D0WDS9A\\', \\'B00EN6QXI0\\', \\'B00D0ZF44Y\\', \\'B00D2K0PA0\\', \\'B00HSOJB9M\\', \\'B00CF7G0UA\\', \\'B003IEDM9Q\\', \\'B005JJ274Y\\', \\'B000G8GME4\\', \\'B000IRG356\\', \\'B003AVNY6I\\', \\'B003WFQ42S\\', \\'B005JJ2762\\', \\'B00CEUWY8K\\', \\'0375843930\\', \\'B00AFDOPDA\\', \\'B00613VNL0\\', \\'B004JBEYC6\\', \\'B009QVCTTY\\', \\'B00I1W2E1C\\', \\'0375851682\\', \\'B005JJ2758\\', \\'B002R0FABA\\', \\'B002GZPTRQ\\', \\'B005Z2UDEG\\', \\'B002R0FA24\\', \\'B002GZGI4E\\', \\'B00CEUX0D8\\', \\'B001V5XKC8\\', \\'B00HSC8O74\\', \\'B003UM99FC\\', \\'B00538F5OK\\', \\'B008LOSB2Q\\', \\'B003ILA0L2\\', \\'B002G9UFNK\\', \\'B007Z7HSFG\\', \\'B007XAI4LW\\', \\'B004LHZ1NY\\', \\'B003LTOZK8\\', \\'0000032034\\', \\'B00CEV86I6\\', \\'B003IRFOU8\\', \\'B00BC4GY9Y\\', \\'B00DJB65ME\\', \\'B005BGOWJ8\\', \\'B005Y0QYHY\\', \\'B00498HUQ6\\', \\'B0079MHVEA\\', \\'B00ATBQSKG\\', \\'B00I1VZPVY\\', \\'B001QKHXEE\\', \\'B004PEI45U\\', \\'B000NZT2H4\\', \\'B008C7PHOC\\', \\'B00ATBQSL0\\', \\'B00A8PUJ62\\', \\'0448408775\\', \\'B008CLA6GW\\', \\'B00DSJ6QGW\\', \\'B008F0SY6O\\', \\'B002R0F7FE\\', \\'B00FAZ5ZE6\\', \\'B00D8ERLL6\\', \\'B008X6CBS2\\', \\'B00D0FCQQI\\', \\'B008UD01L2\\', \\'B00D9C1WBM\\', \\'B000VLO9JQ\\', \\'B00CEUWUZC\\', \\'B001GTKPEK\\', \\'B002SJ7N42\\', \\'B008HA0BDG\\', \\'B000KIJP2Q\\', \\'B00427XACM\\', \\'B004BFI994\\', \\'B00D2JTMS2\\', \\'B001T9NUFS\\', \\'B0046W9T8C\\']}\"'"
      ]
     },
     "execution_count": 53,
     "metadata": {},
     "output_type": "execute_result"
    }
   ],
   "source": [
    "d"
   ]
  },
  {
   "cell_type": "code",
   "execution_count": 22,
   "metadata": {},
   "outputs": [
    {
     "ename": "ValueError",
     "evalue": "Expected object or value",
     "output_type": "error",
     "traceback": [
      "\u001b[1;31m---------------------------------------------------------------------------\u001b[0m",
      "\u001b[1;31mValueError\u001b[0m                                Traceback (most recent call last)",
      "\u001b[1;32m<ipython-input-22-41e08f09d187>\u001b[0m in \u001b[0;36m<module>\u001b[1;34m()\u001b[0m\n\u001b[1;32m----> 1\u001b[1;33m \u001b[0mjson\u001b[0m \u001b[1;33m=\u001b[0m \u001b[0mpd\u001b[0m\u001b[1;33m.\u001b[0m\u001b[0mread_json\u001b[0m\u001b[1;33m(\u001b[0m\u001b[0mdf\u001b[0m\u001b[1;33m[\u001b[0m\u001b[1;34m'related'\u001b[0m\u001b[1;33m]\u001b[0m\u001b[1;33m[\u001b[0m\u001b[1;36m1\u001b[0m\u001b[1;33m]\u001b[0m\u001b[1;33m)\u001b[0m\u001b[1;33m\u001b[0m\u001b[0m\n\u001b[0m",
      "\u001b[1;32mC:\\Users\\Adithya\\Anaconda\\lib\\site-packages\\pandas\\io\\json\\json.py\u001b[0m in \u001b[0;36mread_json\u001b[1;34m(path_or_buf, orient, typ, dtype, convert_axes, convert_dates, keep_default_dates, numpy, precise_float, date_unit, encoding, lines)\u001b[0m\n\u001b[0;32m    352\u001b[0m         obj = FrameParser(json, orient, dtype, convert_axes, convert_dates,\n\u001b[0;32m    353\u001b[0m                           \u001b[0mkeep_default_dates\u001b[0m\u001b[1;33m,\u001b[0m \u001b[0mnumpy\u001b[0m\u001b[1;33m,\u001b[0m \u001b[0mprecise_float\u001b[0m\u001b[1;33m,\u001b[0m\u001b[1;33m\u001b[0m\u001b[0m\n\u001b[1;32m--> 354\u001b[1;33m                           date_unit).parse()\n\u001b[0m\u001b[0;32m    355\u001b[0m \u001b[1;33m\u001b[0m\u001b[0m\n\u001b[0;32m    356\u001b[0m     \u001b[1;32mif\u001b[0m \u001b[0mtyp\u001b[0m \u001b[1;33m==\u001b[0m \u001b[1;34m'series'\u001b[0m \u001b[1;32mor\u001b[0m \u001b[0mobj\u001b[0m \u001b[1;32mis\u001b[0m \u001b[1;32mNone\u001b[0m\u001b[1;33m:\u001b[0m\u001b[1;33m\u001b[0m\u001b[0m\n",
      "\u001b[1;32mC:\\Users\\Adithya\\Anaconda\\lib\\site-packages\\pandas\\io\\json\\json.py\u001b[0m in \u001b[0;36mparse\u001b[1;34m(self)\u001b[0m\n\u001b[0;32m    420\u001b[0m \u001b[1;33m\u001b[0m\u001b[0m\n\u001b[0;32m    421\u001b[0m         \u001b[1;32melse\u001b[0m\u001b[1;33m:\u001b[0m\u001b[1;33m\u001b[0m\u001b[0m\n\u001b[1;32m--> 422\u001b[1;33m             \u001b[0mself\u001b[0m\u001b[1;33m.\u001b[0m\u001b[0m_parse_no_numpy\u001b[0m\u001b[1;33m(\u001b[0m\u001b[1;33m)\u001b[0m\u001b[1;33m\u001b[0m\u001b[0m\n\u001b[0m\u001b[0;32m    423\u001b[0m \u001b[1;33m\u001b[0m\u001b[0m\n\u001b[0;32m    424\u001b[0m         \u001b[1;32mif\u001b[0m \u001b[0mself\u001b[0m\u001b[1;33m.\u001b[0m\u001b[0mobj\u001b[0m \u001b[1;32mis\u001b[0m \u001b[1;32mNone\u001b[0m\u001b[1;33m:\u001b[0m\u001b[1;33m\u001b[0m\u001b[0m\n",
      "\u001b[1;32mC:\\Users\\Adithya\\Anaconda\\lib\\site-packages\\pandas\\io\\json\\json.py\u001b[0m in \u001b[0;36m_parse_no_numpy\u001b[1;34m(self)\u001b[0m\n\u001b[0;32m    637\u001b[0m         \u001b[1;32mif\u001b[0m \u001b[0morient\u001b[0m \u001b[1;33m==\u001b[0m \u001b[1;34m\"columns\"\u001b[0m\u001b[1;33m:\u001b[0m\u001b[1;33m\u001b[0m\u001b[0m\n\u001b[0;32m    638\u001b[0m             self.obj = DataFrame(\n\u001b[1;32m--> 639\u001b[1;33m                 loads(json, precise_float=self.precise_float), dtype=None)\n\u001b[0m\u001b[0;32m    640\u001b[0m         \u001b[1;32melif\u001b[0m \u001b[0morient\u001b[0m \u001b[1;33m==\u001b[0m \u001b[1;34m\"split\"\u001b[0m\u001b[1;33m:\u001b[0m\u001b[1;33m\u001b[0m\u001b[0m\n\u001b[0;32m    641\u001b[0m             decoded = dict((str(k), v)\n",
      "\u001b[1;31mValueError\u001b[0m: Expected object or value"
     ]
    }
   ],
   "source": [
    "json = pd.read_json(df['related'][1])"
   ]
  },
  {
   "cell_type": "code",
   "execution_count": null,
   "metadata": {
    "collapsed": true
   },
   "outputs": [],
   "source": []
  },
  {
   "cell_type": "code",
   "execution_count": null,
   "metadata": {
    "collapsed": true
   },
   "outputs": [],
   "source": []
  },
  {
   "cell_type": "code",
   "execution_count": 52,
   "metadata": {
    "collapsed": true
   },
   "outputs": [],
   "source": [
    "df = df[np.isfinite(df['price'])]"
   ]
  },
  {
   "cell_type": "code",
   "execution_count": 53,
   "metadata": {
    "collapsed": true
   },
   "outputs": [],
   "source": [
    "df = df.drop([\"imUrl\",\"description\"], axis = 1)"
   ]
  },
  {
   "cell_type": "code",
   "execution_count": 54,
   "metadata": {
    "scrolled": true
   },
   "outputs": [
    {
     "data": {
      "text/html": [
       "<div>\n",
       "<style scoped>\n",
       "    .dataframe tbody tr th:only-of-type {\n",
       "        vertical-align: middle;\n",
       "    }\n",
       "\n",
       "    .dataframe tbody tr th {\n",
       "        vertical-align: top;\n",
       "    }\n",
       "\n",
       "    .dataframe thead th {\n",
       "        text-align: right;\n",
       "    }\n",
       "</style>\n",
       "<table border=\"1\" class=\"dataframe\">\n",
       "  <thead>\n",
       "    <tr style=\"text-align: right;\">\n",
       "      <th></th>\n",
       "      <th>salesRank</th>\n",
       "      <th>brand</th>\n",
       "      <th>categories</th>\n",
       "      <th>related</th>\n",
       "      <th>asin</th>\n",
       "      <th>title</th>\n",
       "      <th>price</th>\n",
       "    </tr>\n",
       "  </thead>\n",
       "  <tbody>\n",
       "    <tr>\n",
       "      <th>0</th>\n",
       "      <td>{'Clothing': 1233557}</td>\n",
       "      <td>Big Dreams</td>\n",
       "      <td>[['Clothing, Shoes &amp; Jewelry', 'Girls'], ['Clo...</td>\n",
       "      <td>{'also_viewed': ['B00JO8II76', 'B00DGN4R1Q', '...</td>\n",
       "      <td>0000037214</td>\n",
       "      <td>Purple Sequin Tiny Dancer Tutu Ballet Dance Fa...</td>\n",
       "      <td>6.99</td>\n",
       "    </tr>\n",
       "    <tr>\n",
       "      <th>1</th>\n",
       "      <td>{'Sports &amp;amp; Outdoors': 8547}</td>\n",
       "      <td>Boutique Cutie</td>\n",
       "      <td>[['Clothing, Shoes &amp; Jewelry', 'Girls', 'Cloth...</td>\n",
       "      <td>{'also_viewed': ['B00E1YRI4C', 'B00D23MC6W', '...</td>\n",
       "      <td>0000031887</td>\n",
       "      <td>Ballet Dress-Up Fairy Tutu</td>\n",
       "      <td>6.79</td>\n",
       "    </tr>\n",
       "    <tr>\n",
       "      <th>2</th>\n",
       "      <td>{'Kitchen &amp; Dining': 16987}</td>\n",
       "      <td>NaN</td>\n",
       "      <td>[['Clothing, Shoes &amp; Jewelry', 'Novelty, Costu...</td>\n",
       "      <td>{'also_viewed': ['B0006JCGUM', 'B000BMTCK6', '...</td>\n",
       "      <td>0123456479</td>\n",
       "      <td>SHINING IMAGE HUGE PINK LEATHER JEWELRY BOX / ...</td>\n",
       "      <td>64.98</td>\n",
       "    </tr>\n",
       "    <tr>\n",
       "      <th>11</th>\n",
       "      <td>{'Home &amp;amp; Kitchen': 656086}</td>\n",
       "      <td>NaN</td>\n",
       "      <td>[['Clothing, Shoes &amp; Jewelry', 'Luggage &amp; Trav...</td>\n",
       "      <td>{'also_viewed': ['B00A8OV6R4', 'B00A8P5M96', '...</td>\n",
       "      <td>0641997078</td>\n",
       "      <td>Vera Bradley Tote Blue Rhapsody</td>\n",
       "      <td>47.99</td>\n",
       "    </tr>\n",
       "    <tr>\n",
       "      <th>12</th>\n",
       "      <td>{'Toys &amp; Games': 674790}</td>\n",
       "      <td>NECA</td>\n",
       "      <td>[['Clothing, Shoes &amp; Jewelry', 'Novelty, Costu...</td>\n",
       "      <td>{'also_viewed': ['B005TLMG0M', 'B002R0DRR4', '...</td>\n",
       "      <td>0681256036</td>\n",
       "      <td>Twilight Saga: New Moon Alice Chocker Necklace...</td>\n",
       "      <td>17.59</td>\n",
       "    </tr>\n",
       "  </tbody>\n",
       "</table>\n",
       "</div>"
      ],
      "text/plain": [
       "                          salesRank           brand  \\\n",
       "0             {'Clothing': 1233557}      Big Dreams   \n",
       "1   {'Sports &amp; Outdoors': 8547}  Boutique Cutie   \n",
       "2       {'Kitchen & Dining': 16987}             NaN   \n",
       "11   {'Home &amp; Kitchen': 656086}             NaN   \n",
       "12         {'Toys & Games': 674790}            NECA   \n",
       "\n",
       "                                           categories  \\\n",
       "0   [['Clothing, Shoes & Jewelry', 'Girls'], ['Clo...   \n",
       "1   [['Clothing, Shoes & Jewelry', 'Girls', 'Cloth...   \n",
       "2   [['Clothing, Shoes & Jewelry', 'Novelty, Costu...   \n",
       "11  [['Clothing, Shoes & Jewelry', 'Luggage & Trav...   \n",
       "12  [['Clothing, Shoes & Jewelry', 'Novelty, Costu...   \n",
       "\n",
       "                                              related        asin  \\\n",
       "0   {'also_viewed': ['B00JO8II76', 'B00DGN4R1Q', '...  0000037214   \n",
       "1   {'also_viewed': ['B00E1YRI4C', 'B00D23MC6W', '...  0000031887   \n",
       "2   {'also_viewed': ['B0006JCGUM', 'B000BMTCK6', '...  0123456479   \n",
       "11  {'also_viewed': ['B00A8OV6R4', 'B00A8P5M96', '...  0641997078   \n",
       "12  {'also_viewed': ['B005TLMG0M', 'B002R0DRR4', '...  0681256036   \n",
       "\n",
       "                                                title  price  \n",
       "0   Purple Sequin Tiny Dancer Tutu Ballet Dance Fa...   6.99  \n",
       "1                          Ballet Dress-Up Fairy Tutu   6.79  \n",
       "2   SHINING IMAGE HUGE PINK LEATHER JEWELRY BOX / ...  64.98  \n",
       "11                    Vera Bradley Tote Blue Rhapsody  47.99  \n",
       "12  Twilight Saga: New Moon Alice Chocker Necklace...  17.59  "
      ]
     },
     "execution_count": 54,
     "metadata": {},
     "output_type": "execute_result"
    }
   ],
   "source": [
    "df.head()"
   ]
  },
  {
   "cell_type": "code",
   "execution_count": 55,
   "metadata": {
    "collapsed": true
   },
   "outputs": [],
   "source": [
    "# df = df.fillna(0)"
   ]
  },
  {
   "cell_type": "code",
   "execution_count": 62,
   "metadata": {
    "collapsed": true
   },
   "outputs": [],
   "source": [
    "df = df.dropna(subset=['brand'])\n",
    "df = df.dropna(subset=['related'])"
   ]
  },
  {
   "cell_type": "code",
   "execution_count": 63,
   "metadata": {
    "collapsed": true
   },
   "outputs": [],
   "source": [
    "df = df.dropna(subset=['title'])\n",
    "df = df.dropna(subset=['salesRank'])"
   ]
  },
  {
   "cell_type": "code",
   "execution_count": 64,
   "metadata": {},
   "outputs": [
    {
     "name": "stdout",
     "output_type": "stream",
     "text": [
      "<class 'pandas.core.frame.DataFrame'>\n",
      "Int64Index: 76866 entries, 0 to 1503378\n",
      "Data columns (total 7 columns):\n",
      "salesRank     76866 non-null object\n",
      "brand         76866 non-null object\n",
      "categories    76866 non-null object\n",
      "related       76866 non-null object\n",
      "asin          76866 non-null object\n",
      "title         76866 non-null object\n",
      "price         76866 non-null float64\n",
      "dtypes: float64(1), object(6)\n",
      "memory usage: 4.7+ MB\n"
     ]
    }
   ],
   "source": [
    "df.info()"
   ]
  }
 ],
 "metadata": {
  "kernelspec": {
   "display_name": "Python 3",
   "language": "python",
   "name": "python3"
  },
  "language_info": {
   "codemirror_mode": {
    "name": "ipython",
    "version": 3
   },
   "file_extension": ".py",
   "mimetype": "text/x-python",
   "name": "python",
   "nbconvert_exporter": "python",
   "pygments_lexer": "ipython3",
   "version": "3.6.1"
  }
 },
 "nbformat": 4,
 "nbformat_minor": 2
}
