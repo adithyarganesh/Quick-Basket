{
 "cells": [
  {
   "cell_type": "code",
   "execution_count": 1,
   "metadata": {},
   "outputs": [],
   "source": [
    "import pandas as pd\n",
    "import numpy as np"
   ]
  },
  {
   "cell_type": "code",
   "execution_count": 117,
   "metadata": {},
   "outputs": [
    {
     "name": "stdout",
     "output_type": "stream",
     "text": [
      "<class 'pandas.core.frame.DataFrame'>\n",
      "RangeIndex: 1503384 entries, 0 to 1503383\n",
      "Data columns (total 9 columns):\n",
      "salesRank      1422273 non-null object\n",
      "brand          97407 non-null object\n",
      "categories     1503384 non-null object\n",
      "related        1057123 non-null object\n",
      "asin           1503384 non-null object\n",
      "title          1502696 non-null object\n",
      "price          574882 non-null float64\n",
      "imUrl          1503305 non-null object\n",
      "description    84781 non-null object\n",
      "dtypes: float64(1), object(8)\n",
      "memory usage: 103.2+ MB\n"
     ]
    }
   ],
   "source": [
    "df = pd.read_csv('Amazon product data')\n",
    "df.info()"
   ]
  },
  {
   "cell_type": "code",
   "execution_count": 4,
   "metadata": {},
   "outputs": [],
   "source": [
    "sales = pd.read_csv(\"Sales.csv\")"
   ]
  },
  {
   "cell_type": "code",
   "execution_count": 5,
   "metadata": {},
   "outputs": [
    {
     "name": "stdout",
     "output_type": "stream",
     "text": [
      "<class 'pandas.core.frame.DataFrame'>\n",
      "RangeIndex: 1001533 entries, 0 to 1001532\n",
      "Data columns (total 4 columns):\n",
      "Unnamed: 0    1001533 non-null int64\n",
      "0             1001533 non-null object\n",
      "1             646136 non-null object\n",
      "2             444130 non-null object\n",
      "dtypes: int64(1), object(3)\n",
      "memory usage: 30.6+ MB\n"
     ]
    }
   ],
   "source": [
    "sales.info()"
   ]
  },
  {
   "cell_type": "code",
   "execution_count": 115,
   "metadata": {},
   "outputs": [
    {
     "data": {
      "text/html": [
       "<div>\n",
       "<style scoped>\n",
       "    .dataframe tbody tr th:only-of-type {\n",
       "        vertical-align: middle;\n",
       "    }\n",
       "\n",
       "    .dataframe tbody tr th {\n",
       "        vertical-align: top;\n",
       "    }\n",
       "\n",
       "    .dataframe thead th {\n",
       "        text-align: right;\n",
       "    }\n",
       "</style>\n",
       "<table border=\"1\" class=\"dataframe\">\n",
       "  <thead>\n",
       "    <tr style=\"text-align: right;\">\n",
       "      <th></th>\n",
       "      <th>also_viewed</th>\n",
       "      <th>bought_together</th>\n",
       "      <th>also_bought</th>\n",
       "      <th>rank</th>\n",
       "    </tr>\n",
       "  </thead>\n",
       "  <tbody>\n",
       "    <tr>\n",
       "      <th>0</th>\n",
       "      <td>'B00JO8II76', 'B00DGN4R1Q', 'B00E1YRI4C'</td>\n",
       "      <td>NaN</td>\n",
       "      <td>NaN</td>\n",
       "      <td>1233557</td>\n",
       "    </tr>\n",
       "    <tr>\n",
       "      <th>1</th>\n",
       "      <td>'B00E1YRI4C', 'B00D23MC6W', 'B00AFDOPDA', 'B00...</td>\n",
       "      <td>'B00D23MC6W'</td>\n",
       "      <td>'0000031852', '0000031895', '0000031909', 'B00...</td>\n",
       "      <td>8547</td>\n",
       "    </tr>\n",
       "    <tr>\n",
       "      <th>2</th>\n",
       "      <td>'B0006JCGUM', 'B000BMTCK6', 'B00194Q262', 'B00...</td>\n",
       "      <td>'B000BMTCK6', 'B0006JCGUM'</td>\n",
       "      <td>'B000BMTCK6', 'B0006JCGUM', 'B00194Q262', 'B00...</td>\n",
       "      <td>16987</td>\n",
       "    </tr>\n",
       "    <tr>\n",
       "      <th>3</th>\n",
       "      <td>'B008MTRT1O', 'B00BUG47S4', 'B00GTVY0DC', 'B00...</td>\n",
       "      <td>NaN</td>\n",
       "      <td>NaN</td>\n",
       "      <td>1180499</td>\n",
       "    </tr>\n",
       "    <tr>\n",
       "      <th>4</th>\n",
       "      <td>'B00A6JD8EA', 'B00BFL4FTA', 'B00JPI9AAO', 'B00...</td>\n",
       "      <td>NaN</td>\n",
       "      <td>NaN</td>\n",
       "      <td>1038084</td>\n",
       "    </tr>\n",
       "  </tbody>\n",
       "</table>\n",
       "</div>"
      ],
      "text/plain": [
       "                                         also_viewed  \\\n",
       "0           'B00JO8II76', 'B00DGN4R1Q', 'B00E1YRI4C'   \n",
       "1  'B00E1YRI4C', 'B00D23MC6W', 'B00AFDOPDA', 'B00...   \n",
       "2  'B0006JCGUM', 'B000BMTCK6', 'B00194Q262', 'B00...   \n",
       "3  'B008MTRT1O', 'B00BUG47S4', 'B00GTVY0DC', 'B00...   \n",
       "4  'B00A6JD8EA', 'B00BFL4FTA', 'B00JPI9AAO', 'B00...   \n",
       "\n",
       "              bought_together  \\\n",
       "0                         NaN   \n",
       "1                'B00D23MC6W'   \n",
       "2  'B000BMTCK6', 'B0006JCGUM'   \n",
       "3                         NaN   \n",
       "4                         NaN   \n",
       "\n",
       "                                         also_bought      rank  \n",
       "0                                                NaN   1233557  \n",
       "1  '0000031852', '0000031895', '0000031909', 'B00...      8547  \n",
       "2  'B000BMTCK6', 'B0006JCGUM', 'B00194Q262', 'B00...     16987  \n",
       "3                                                NaN   1180499  \n",
       "4                                                NaN   1038084  "
      ]
     },
     "execution_count": 115,
     "metadata": {},
     "output_type": "execute_result"
    }
   ],
   "source": [
    "sales.head()"
   ]
  },
  {
   "cell_type": "code",
   "execution_count": 6,
   "metadata": {},
   "outputs": [],
   "source": [
    "df[\"product_name\"] = df[\"title\"]\n",
    "df[\"product_id\"] = df[\"asin\"]\n",
    "df = df.drop([\"imUrl\",\"description\",\"title\",\"asin\",\"related\",\"brand\"], axis = 1)"
   ]
  },
  {
   "cell_type": "code",
   "execution_count": 116,
   "metadata": {},
   "outputs": [
    {
     "data": {
      "text/html": [
       "<div>\n",
       "<style scoped>\n",
       "    .dataframe tbody tr th:only-of-type {\n",
       "        vertical-align: middle;\n",
       "    }\n",
       "\n",
       "    .dataframe tbody tr th {\n",
       "        vertical-align: top;\n",
       "    }\n",
       "\n",
       "    .dataframe thead th {\n",
       "        text-align: right;\n",
       "    }\n",
       "</style>\n",
       "<table border=\"1\" class=\"dataframe\">\n",
       "  <thead>\n",
       "    <tr style=\"text-align: right;\">\n",
       "      <th></th>\n",
       "      <th>product_name</th>\n",
       "      <th>product_id</th>\n",
       "      <th>item_price</th>\n",
       "      <th>also_viewed</th>\n",
       "      <th>bought_together</th>\n",
       "      <th>also_bought</th>\n",
       "      <th>rank</th>\n",
       "    </tr>\n",
       "  </thead>\n",
       "  <tbody>\n",
       "    <tr>\n",
       "      <th>826936</th>\n",
       "      <td>U.S. Polo Assn. Sport Men's US9061 Watch with ...</td>\n",
       "      <td>B008D902Q2</td>\n",
       "      <td>1385.37</td>\n",
       "      <td>'B00E955EOO', 'B00DJ242ZK', 'B00AFXL15A', 'B00...</td>\n",
       "      <td>'B00E955EOO', 'B00DJ242ZK', 'B00J2L4EUA', 'B00...</td>\n",
       "      <td>'B00E955EOO', 'B00DJ242ZK', 'B00ENG7WGC', 'B00...</td>\n",
       "      <td>1</td>\n",
       "    </tr>\n",
       "    <tr>\n",
       "      <th>583</th>\n",
       "      <td>Converse Unisex Chuck Taylor Classic Colors Sn...</td>\n",
       "      <td>B000072UN4</td>\n",
       "      <td>NaN</td>\n",
       "      <td>'B001IX6F1G'</td>\n",
       "      <td>'B001IX6F1G', 'B009ZPWMIE'</td>\n",
       "      <td>NaN</td>\n",
       "      <td>10</td>\n",
       "    </tr>\n",
       "    <tr>\n",
       "      <th>591</th>\n",
       "      <td>Converse Unisex Chuck Taylor Classic Colors Sn...</td>\n",
       "      <td>B000072UN1</td>\n",
       "      <td>NaN</td>\n",
       "      <td>'B005BMCKVE', 'B0000AS4YH', 'B005BMEJCW', 'B00...</td>\n",
       "      <td>'B000VHW3M0'</td>\n",
       "      <td>NaN</td>\n",
       "      <td>10</td>\n",
       "    </tr>\n",
       "    <tr>\n",
       "      <th>594</th>\n",
       "      <td>Converse Unisex Chuck Taylor Classic Colors Sn...</td>\n",
       "      <td>B000072UMJ</td>\n",
       "      <td>NaN</td>\n",
       "      <td>'B000AP4ZZG', 'B000APACVW', 'B008LQR36O', 'B00...</td>\n",
       "      <td>'B000APACVW', 'B000AP4ZZG', 'B008LQR36O', 'B00...</td>\n",
       "      <td>'B000APACVW', 'B008LQR36O', 'B000AP4ZZG', 'B00...</td>\n",
       "      <td>10</td>\n",
       "    </tr>\n",
       "    <tr>\n",
       "      <th>425689</th>\n",
       "      <td>Wholesale Lot of 50Pc 14G Belly Button Navel R...</td>\n",
       "      <td>B004HWZLBA</td>\n",
       "      <td>116.55</td>\n",
       "      <td>'B00A3S40Z0', 'B00B4022II', 'B00AWP6BGU', 'B00...</td>\n",
       "      <td>'B00A3S40Z0', 'B00B4022II', 'B00BXF2CJS', 'B00...</td>\n",
       "      <td>'B00BXF2CJS', 'B00B4022II', 'B00A3S40Z0', 'B00...</td>\n",
       "      <td>10</td>\n",
       "    </tr>\n",
       "  </tbody>\n",
       "</table>\n",
       "</div>"
      ],
      "text/plain": [
       "                                             product_name  product_id  \\\n",
       "826936  U.S. Polo Assn. Sport Men's US9061 Watch with ...  B008D902Q2   \n",
       "583     Converse Unisex Chuck Taylor Classic Colors Sn...  B000072UN4   \n",
       "591     Converse Unisex Chuck Taylor Classic Colors Sn...  B000072UN1   \n",
       "594     Converse Unisex Chuck Taylor Classic Colors Sn...  B000072UMJ   \n",
       "425689  Wholesale Lot of 50Pc 14G Belly Button Navel R...  B004HWZLBA   \n",
       "\n",
       "        item_price                                        also_viewed  \\\n",
       "826936     1385.37  'B00E955EOO', 'B00DJ242ZK', 'B00AFXL15A', 'B00...   \n",
       "583            NaN                                       'B001IX6F1G'   \n",
       "591            NaN  'B005BMCKVE', 'B0000AS4YH', 'B005BMEJCW', 'B00...   \n",
       "594            NaN  'B000AP4ZZG', 'B000APACVW', 'B008LQR36O', 'B00...   \n",
       "425689      116.55  'B00A3S40Z0', 'B00B4022II', 'B00AWP6BGU', 'B00...   \n",
       "\n",
       "                                          bought_together  \\\n",
       "826936  'B00E955EOO', 'B00DJ242ZK', 'B00J2L4EUA', 'B00...   \n",
       "583                            'B001IX6F1G', 'B009ZPWMIE'   \n",
       "591                                          'B000VHW3M0'   \n",
       "594     'B000APACVW', 'B000AP4ZZG', 'B008LQR36O', 'B00...   \n",
       "425689  'B00A3S40Z0', 'B00B4022II', 'B00BXF2CJS', 'B00...   \n",
       "\n",
       "                                              also_bought rank  \n",
       "826936  'B00E955EOO', 'B00DJ242ZK', 'B00ENG7WGC', 'B00...    1  \n",
       "583                                                   NaN   10  \n",
       "591                                                   NaN   10  \n",
       "594     'B000APACVW', 'B008LQR36O', 'B000AP4ZZG', 'B00...   10  \n",
       "425689  'B00BXF2CJS', 'B00B4022II', 'B00A3S40Z0', 'B00...   10  "
      ]
     },
     "execution_count": 116,
     "metadata": {},
     "output_type": "execute_result"
    }
   ],
   "source": [
    "df.head()"
   ]
  },
  {
   "cell_type": "code",
   "execution_count": 118,
   "metadata": {},
   "outputs": [],
   "source": [
    "rank = df"
   ]
  },
  {
   "cell_type": "code",
   "execution_count": null,
   "metadata": {},
   "outputs": [],
   "source": [
    "rank = df['salesRank'].apply(lambda x: pd.Series(str(x).split(':')))"
   ]
  },
  {
   "cell_type": "code",
   "execution_count": null,
   "metadata": {},
   "outputs": [],
   "source": []
  },
  {
   "cell_type": "code",
   "execution_count": 12,
   "metadata": {},
   "outputs": [
    {
     "data": {
      "text/html": [
       "<div>\n",
       "<style scoped>\n",
       "    .dataframe tbody tr th:only-of-type {\n",
       "        vertical-align: middle;\n",
       "    }\n",
       "\n",
       "    .dataframe tbody tr th {\n",
       "        vertical-align: top;\n",
       "    }\n",
       "\n",
       "    .dataframe thead th {\n",
       "        text-align: right;\n",
       "    }\n",
       "</style>\n",
       "<table border=\"1\" class=\"dataframe\">\n",
       "  <thead>\n",
       "    <tr style=\"text-align: right;\">\n",
       "      <th></th>\n",
       "      <th>0</th>\n",
       "      <th>1</th>\n",
       "      <th>2</th>\n",
       "    </tr>\n",
       "  </thead>\n",
       "  <tbody>\n",
       "    <tr>\n",
       "      <th>0</th>\n",
       "      <td>{'also_viewed': ['B00JO8II76', 'B00DGN4R1Q', '...</td>\n",
       "      <td>NaN</td>\n",
       "      <td>NaN</td>\n",
       "    </tr>\n",
       "    <tr>\n",
       "      <th>1</th>\n",
       "      <td>{'also_viewed': ['B00E1YRI4C', 'B00D23MC6W', '...</td>\n",
       "      <td>'bought_together': ['B00D23MC6W'</td>\n",
       "      <td>'also_bought': ['0000031852', '0000031895', '...</td>\n",
       "    </tr>\n",
       "    <tr>\n",
       "      <th>2</th>\n",
       "      <td>{'also_viewed': ['B0006JCGUM', 'B000BMTCK6', '...</td>\n",
       "      <td>'bought_together': ['B000BMTCK6', 'B0006JCGUM'</td>\n",
       "      <td>'also_bought': ['B000BMTCK6', 'B0006JCGUM', '...</td>\n",
       "    </tr>\n",
       "    <tr>\n",
       "      <th>3</th>\n",
       "      <td>{'also_viewed': ['B008MTRT1O', 'B00BUG47S4', '...</td>\n",
       "      <td>NaN</td>\n",
       "      <td>NaN</td>\n",
       "    </tr>\n",
       "    <tr>\n",
       "      <th>4</th>\n",
       "      <td>{'also_viewed': ['B00A6JD8EA', 'B00BFL4FTA', '...</td>\n",
       "      <td>NaN</td>\n",
       "      <td>NaN</td>\n",
       "    </tr>\n",
       "  </tbody>\n",
       "</table>\n",
       "</div>"
      ],
      "text/plain": [
       "                                                   0  \\\n",
       "0  {'also_viewed': ['B00JO8II76', 'B00DGN4R1Q', '...   \n",
       "1  {'also_viewed': ['B00E1YRI4C', 'B00D23MC6W', '...   \n",
       "2  {'also_viewed': ['B0006JCGUM', 'B000BMTCK6', '...   \n",
       "3  {'also_viewed': ['B008MTRT1O', 'B00BUG47S4', '...   \n",
       "4  {'also_viewed': ['B00A6JD8EA', 'B00BFL4FTA', '...   \n",
       "\n",
       "                                                 1  \\\n",
       "0                                              NaN   \n",
       "1                 'bought_together': ['B00D23MC6W'   \n",
       "2   'bought_together': ['B000BMTCK6', 'B0006JCGUM'   \n",
       "3                                              NaN   \n",
       "4                                              NaN   \n",
       "\n",
       "                                                   2  \n",
       "0                                                NaN  \n",
       "1   'also_bought': ['0000031852', '0000031895', '...  \n",
       "2   'also_bought': ['B000BMTCK6', 'B0006JCGUM', '...  \n",
       "3                                                NaN  \n",
       "4                                                NaN  "
      ]
     },
     "execution_count": 12,
     "metadata": {},
     "output_type": "execute_result"
    }
   ],
   "source": [
    "sales = sales.drop([\"Unnamed: 0\"], axis = 1)\n",
    "sales.head()"
   ]
  },
  {
   "cell_type": "code",
   "execution_count": 15,
   "metadata": {},
   "outputs": [],
   "source": [
    "bought_together = sales['1'].apply(lambda x: pd.Series(str(x).split(': [')))"
   ]
  },
  {
   "cell_type": "code",
   "execution_count": 16,
   "metadata": {},
   "outputs": [],
   "source": [
    "also_viewed = sales['0'].apply(lambda x: pd.Series(str(x).split(': [')))"
   ]
  },
  {
   "cell_type": "code",
   "execution_count": 17,
   "metadata": {},
   "outputs": [],
   "source": [
    "also_bought = sales['2'].apply(lambda x: pd.Series(str(x).split(': [')))"
   ]
  },
  {
   "cell_type": "code",
   "execution_count": 25,
   "metadata": {},
   "outputs": [],
   "source": [
    "sales['also_viewed'] = also_viewed[1]\n",
    "sales['bought_together'] = bought_together[1]\n",
    "sales['also_bought'] = also_bought[1]"
   ]
  },
  {
   "cell_type": "code",
   "execution_count": 26,
   "metadata": {},
   "outputs": [],
   "source": [
    "# sales = sales.join(also_viewed)\n",
    "# sales = sales.join(bought_together)\n",
    "# sales = sales.join(also_bought)\n",
    "# sales = sales.drop([\"0\",\"1\",\"2\"], axis = 1)\n",
    "sales = sales.replace({']}': ''}, regex=True)"
   ]
  },
  {
   "cell_type": "code",
   "execution_count": 29,
   "metadata": {},
   "outputs": [
    {
     "data": {
      "text/html": [
       "<div>\n",
       "<style scoped>\n",
       "    .dataframe tbody tr th:only-of-type {\n",
       "        vertical-align: middle;\n",
       "    }\n",
       "\n",
       "    .dataframe tbody tr th {\n",
       "        vertical-align: top;\n",
       "    }\n",
       "\n",
       "    .dataframe thead th {\n",
       "        text-align: right;\n",
       "    }\n",
       "</style>\n",
       "<table border=\"1\" class=\"dataframe\">\n",
       "  <thead>\n",
       "    <tr style=\"text-align: right;\">\n",
       "      <th></th>\n",
       "      <th>also_viewed</th>\n",
       "      <th>bought_together</th>\n",
       "      <th>also_bought</th>\n",
       "    </tr>\n",
       "  </thead>\n",
       "  <tbody>\n",
       "    <tr>\n",
       "      <th>0</th>\n",
       "      <td>'B00JO8II76', 'B00DGN4R1Q', 'B00E1YRI4C'</td>\n",
       "      <td>NaN</td>\n",
       "      <td>NaN</td>\n",
       "    </tr>\n",
       "    <tr>\n",
       "      <th>1</th>\n",
       "      <td>'B00E1YRI4C', 'B00D23MC6W', 'B00AFDOPDA', 'B00...</td>\n",
       "      <td>'B00D23MC6W'</td>\n",
       "      <td>'0000031852', '0000031895', '0000031909', 'B00...</td>\n",
       "    </tr>\n",
       "    <tr>\n",
       "      <th>2</th>\n",
       "      <td>'B0006JCGUM', 'B000BMTCK6', 'B00194Q262', 'B00...</td>\n",
       "      <td>'B000BMTCK6', 'B0006JCGUM'</td>\n",
       "      <td>'B000BMTCK6', 'B0006JCGUM', 'B00194Q262', 'B00...</td>\n",
       "    </tr>\n",
       "    <tr>\n",
       "      <th>3</th>\n",
       "      <td>'B008MTRT1O', 'B00BUG47S4', 'B00GTVY0DC', 'B00...</td>\n",
       "      <td>NaN</td>\n",
       "      <td>NaN</td>\n",
       "    </tr>\n",
       "    <tr>\n",
       "      <th>4</th>\n",
       "      <td>'B00A6JD8EA', 'B00BFL4FTA', 'B00JPI9AAO', 'B00...</td>\n",
       "      <td>NaN</td>\n",
       "      <td>NaN</td>\n",
       "    </tr>\n",
       "  </tbody>\n",
       "</table>\n",
       "</div>"
      ],
      "text/plain": [
       "                                         also_viewed  \\\n",
       "0           'B00JO8II76', 'B00DGN4R1Q', 'B00E1YRI4C'   \n",
       "1  'B00E1YRI4C', 'B00D23MC6W', 'B00AFDOPDA', 'B00...   \n",
       "2  'B0006JCGUM', 'B000BMTCK6', 'B00194Q262', 'B00...   \n",
       "3  'B008MTRT1O', 'B00BUG47S4', 'B00GTVY0DC', 'B00...   \n",
       "4  'B00A6JD8EA', 'B00BFL4FTA', 'B00JPI9AAO', 'B00...   \n",
       "\n",
       "              bought_together  \\\n",
       "0                         NaN   \n",
       "1                'B00D23MC6W'   \n",
       "2  'B000BMTCK6', 'B0006JCGUM'   \n",
       "3                         NaN   \n",
       "4                         NaN   \n",
       "\n",
       "                                         also_bought  \n",
       "0                                                NaN  \n",
       "1  '0000031852', '0000031895', '0000031909', 'B00...  \n",
       "2  'B000BMTCK6', 'B0006JCGUM', 'B00194Q262', 'B00...  \n",
       "3                                                NaN  \n",
       "4                                                NaN  "
      ]
     },
     "execution_count": 29,
     "metadata": {},
     "output_type": "execute_result"
    }
   ],
   "source": [
    "sales.head()"
   ]
  },
  {
   "cell_type": "code",
   "execution_count": null,
   "metadata": {},
   "outputs": [],
   "source": [
    "rank = rank.replace({'}': ''}, regex=True)\n",
    "rank = rank.replace({'{': ''}, regex=True)\n",
    "rank.head()"
   ]
  },
  {
   "cell_type": "code",
   "execution_count": 33,
   "metadata": {},
   "outputs": [],
   "source": [
    "rank[\"rank\"] = rank[1]"
   ]
  },
  {
   "cell_type": "code",
   "execution_count": 36,
   "metadata": {},
   "outputs": [],
   "source": [
    "rank = rank.drop([0,1], axis = 1)"
   ]
  },
  {
   "cell_type": "code",
   "execution_count": 49,
   "metadata": {},
   "outputs": [
    {
     "name": "stdout",
     "output_type": "stream",
     "text": [
      "<class 'pandas.core.frame.DataFrame'>\n",
      "RangeIndex: 1503384 entries, 0 to 1503383\n",
      "Data columns (total 1 columns):\n",
      "rank    1421649 non-null object\n",
      "dtypes: object(1)\n",
      "memory usage: 11.5+ MB\n"
     ]
    }
   ],
   "source": [
    "rank.info()"
   ]
  },
  {
   "cell_type": "code",
   "execution_count": 37,
   "metadata": {},
   "outputs": [],
   "source": [
    "sales = sales.join(rank)"
   ]
  },
  {
   "cell_type": "code",
   "execution_count": 38,
   "metadata": {},
   "outputs": [
    {
     "name": "stdout",
     "output_type": "stream",
     "text": [
      "<class 'pandas.core.frame.DataFrame'>\n",
      "RangeIndex: 1503384 entries, 0 to 1503383\n",
      "Data columns (total 5 columns):\n",
      "salesRank       1422273 non-null object\n",
      "categories      1503384 non-null object\n",
      "price           574882 non-null float64\n",
      "product_name    1502696 non-null object\n",
      "product_id      1503384 non-null object\n",
      "dtypes: float64(1), object(4)\n",
      "memory usage: 57.3+ MB\n"
     ]
    }
   ],
   "source": [
    "df.info()"
   ]
  },
  {
   "cell_type": "code",
   "execution_count": 41,
   "metadata": {},
   "outputs": [],
   "source": [
    "df = df.drop([\"salesRank\",\"categories\"],axis=1)"
   ]
  },
  {
   "cell_type": "code",
   "execution_count": 43,
   "metadata": {},
   "outputs": [],
   "source": [
    "df[\"item_price\"] = 63*df[\"price\"]"
   ]
  },
  {
   "cell_type": "code",
   "execution_count": 45,
   "metadata": {},
   "outputs": [],
   "source": [
    "df = df.drop([\"price\"],axis=1)"
   ]
  },
  {
   "cell_type": "code",
   "execution_count": 46,
   "metadata": {},
   "outputs": [],
   "source": [
    "df = df.join(sales)\n",
    "df = df.join(rank)\n",
    "new_df = df.sort_values(\"rank\")"
   ]
  },
  {
   "cell_type": "code",
   "execution_count": 108,
   "metadata": {},
   "outputs": [
    {
     "name": "stdout",
     "output_type": "stream",
     "text": [
      "<class 'pandas.core.frame.DataFrame'>\n",
      "Int64Index: 1503384 entries, 826936 to 1503383\n",
      "Data columns (total 7 columns):\n",
      "product_name       1502696 non-null object\n",
      "product_id         1503384 non-null object\n",
      "item_price         574882 non-null float64\n",
      "also_viewed        1001533 non-null object\n",
      "bought_together    646136 non-null object\n",
      "also_bought        444130 non-null object\n",
      "rank               942872 non-null object\n",
      "dtypes: float64(1), object(6)\n",
      "memory usage: 91.8+ MB\n"
     ]
    }
   ],
   "source": [
    "df.info()"
   ]
  },
  {
   "cell_type": "code",
   "execution_count": 110,
   "metadata": {},
   "outputs": [
    {
     "data": {
      "text/html": [
       "<div>\n",
       "<style scoped>\n",
       "    .dataframe tbody tr th:only-of-type {\n",
       "        vertical-align: middle;\n",
       "    }\n",
       "\n",
       "    .dataframe tbody tr th {\n",
       "        vertical-align: top;\n",
       "    }\n",
       "\n",
       "    .dataframe thead th {\n",
       "        text-align: right;\n",
       "    }\n",
       "</style>\n",
       "<table border=\"1\" class=\"dataframe\">\n",
       "  <thead>\n",
       "    <tr style=\"text-align: right;\">\n",
       "      <th></th>\n",
       "      <th>product_name</th>\n",
       "      <th>product_id</th>\n",
       "      <th>item_price</th>\n",
       "      <th>also_viewed</th>\n",
       "      <th>bought_together</th>\n",
       "      <th>also_bought</th>\n",
       "      <th>rank</th>\n",
       "    </tr>\n",
       "  </thead>\n",
       "  <tbody>\n",
       "    <tr>\n",
       "      <th>826936</th>\n",
       "      <td>U.S. Polo Assn. Sport Men's US9061 Watch with ...</td>\n",
       "      <td>B008D902Q2</td>\n",
       "      <td>1385.37</td>\n",
       "      <td>'B00E955EOO', 'B00DJ242ZK', 'B00AFXL15A', 'B00...</td>\n",
       "      <td>'B00E955EOO', 'B00DJ242ZK', 'B00J2L4EUA', 'B00...</td>\n",
       "      <td>'B00E955EOO', 'B00DJ242ZK', 'B00ENG7WGC', 'B00...</td>\n",
       "      <td>1</td>\n",
       "    </tr>\n",
       "    <tr>\n",
       "      <th>583</th>\n",
       "      <td>Converse Unisex Chuck Taylor Classic Colors Sn...</td>\n",
       "      <td>B000072UN4</td>\n",
       "      <td>NaN</td>\n",
       "      <td>'B001IX6F1G'</td>\n",
       "      <td>'B001IX6F1G', 'B009ZPWMIE'</td>\n",
       "      <td>NaN</td>\n",
       "      <td>10</td>\n",
       "    </tr>\n",
       "    <tr>\n",
       "      <th>591</th>\n",
       "      <td>Converse Unisex Chuck Taylor Classic Colors Sn...</td>\n",
       "      <td>B000072UN1</td>\n",
       "      <td>NaN</td>\n",
       "      <td>'B005BMCKVE', 'B0000AS4YH', 'B005BMEJCW', 'B00...</td>\n",
       "      <td>'B000VHW3M0'</td>\n",
       "      <td>NaN</td>\n",
       "      <td>10</td>\n",
       "    </tr>\n",
       "    <tr>\n",
       "      <th>594</th>\n",
       "      <td>Converse Unisex Chuck Taylor Classic Colors Sn...</td>\n",
       "      <td>B000072UMJ</td>\n",
       "      <td>NaN</td>\n",
       "      <td>'B000AP4ZZG', 'B000APACVW', 'B008LQR36O', 'B00...</td>\n",
       "      <td>'B000APACVW', 'B000AP4ZZG', 'B008LQR36O', 'B00...</td>\n",
       "      <td>'B000APACVW', 'B008LQR36O', 'B000AP4ZZG', 'B00...</td>\n",
       "      <td>10</td>\n",
       "    </tr>\n",
       "    <tr>\n",
       "      <th>425689</th>\n",
       "      <td>Wholesale Lot of 50Pc 14G Belly Button Navel R...</td>\n",
       "      <td>B004HWZLBA</td>\n",
       "      <td>116.55</td>\n",
       "      <td>'B00A3S40Z0', 'B00B4022II', 'B00AWP6BGU', 'B00...</td>\n",
       "      <td>'B00A3S40Z0', 'B00B4022II', 'B00BXF2CJS', 'B00...</td>\n",
       "      <td>'B00BXF2CJS', 'B00B4022II', 'B00A3S40Z0', 'B00...</td>\n",
       "      <td>10</td>\n",
       "    </tr>\n",
       "  </tbody>\n",
       "</table>\n",
       "</div>"
      ],
      "text/plain": [
       "                                             product_name  product_id  \\\n",
       "826936  U.S. Polo Assn. Sport Men's US9061 Watch with ...  B008D902Q2   \n",
       "583     Converse Unisex Chuck Taylor Classic Colors Sn...  B000072UN4   \n",
       "591     Converse Unisex Chuck Taylor Classic Colors Sn...  B000072UN1   \n",
       "594     Converse Unisex Chuck Taylor Classic Colors Sn...  B000072UMJ   \n",
       "425689  Wholesale Lot of 50Pc 14G Belly Button Navel R...  B004HWZLBA   \n",
       "\n",
       "        item_price                                        also_viewed  \\\n",
       "826936     1385.37  'B00E955EOO', 'B00DJ242ZK', 'B00AFXL15A', 'B00...   \n",
       "583            NaN                                       'B001IX6F1G'   \n",
       "591            NaN  'B005BMCKVE', 'B0000AS4YH', 'B005BMEJCW', 'B00...   \n",
       "594            NaN  'B000AP4ZZG', 'B000APACVW', 'B008LQR36O', 'B00...   \n",
       "425689      116.55  'B00A3S40Z0', 'B00B4022II', 'B00AWP6BGU', 'B00...   \n",
       "\n",
       "                                          bought_together  \\\n",
       "826936  'B00E955EOO', 'B00DJ242ZK', 'B00J2L4EUA', 'B00...   \n",
       "583                            'B001IX6F1G', 'B009ZPWMIE'   \n",
       "591                                          'B000VHW3M0'   \n",
       "594     'B000APACVW', 'B000AP4ZZG', 'B008LQR36O', 'B00...   \n",
       "425689  'B00A3S40Z0', 'B00B4022II', 'B00BXF2CJS', 'B00...   \n",
       "\n",
       "                                              also_bought rank  \n",
       "826936  'B00E955EOO', 'B00DJ242ZK', 'B00ENG7WGC', 'B00...    1  \n",
       "583                                                   NaN   10  \n",
       "591                                                   NaN   10  \n",
       "594     'B000APACVW', 'B008LQR36O', 'B000AP4ZZG', 'B00...   10  \n",
       "425689  'B00BXF2CJS', 'B00B4022II', 'B00A3S40Z0', 'B00...   10  "
      ]
     },
     "execution_count": 110,
     "metadata": {},
     "output_type": "execute_result"
    }
   ],
   "source": [
    "df.head()"
   ]
  },
  {
   "cell_type": "code",
   "execution_count": 114,
   "metadata": {},
   "outputs": [],
   "source": [
    "df.to_csv(\"Cleaned_data.csv\")"
   ]
  },
  {
   "cell_type": "code",
   "execution_count": null,
   "metadata": {},
   "outputs": [],
   "source": []
  }
 ],
 "metadata": {
  "kernelspec": {
   "display_name": "Python 3",
   "language": "python",
   "name": "python3"
  },
  "language_info": {
   "codemirror_mode": {
    "name": "ipython",
    "version": 3
   },
   "file_extension": ".py",
   "mimetype": "text/x-python",
   "name": "python",
   "nbconvert_exporter": "python",
   "pygments_lexer": "ipython3",
   "version": "3.5.2"
  }
 },
 "nbformat": 4,
 "nbformat_minor": 2
}
