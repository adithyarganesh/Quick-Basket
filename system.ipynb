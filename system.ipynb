{
 "cells": [
  {
   "cell_type": "code",
   "execution_count": 1,
   "metadata": {
    "collapsed": true
   },
   "outputs": [],
   "source": [
    "import pandas as pd\n",
    "import numpy as np"
   ]
  },
  {
   "cell_type": "code",
   "execution_count": 2,
   "metadata": {},
   "outputs": [
    {
     "name": "stderr",
     "output_type": "stream",
     "text": [
      "C:\\Users\\Adithya\\Anaconda\\lib\\site-packages\\IPython\\core\\interactiveshell.py:2717: DtypeWarning: Columns (6,7,8) have mixed types. Specify dtype option on import or set low_memory=False.\n",
      "  interactivity=interactivity, compiler=compiler, result=result)\n"
     ]
    }
   ],
   "source": [
    "df = pd.read_csv(\"just_clothing.csv\")"
   ]
  },
  {
   "cell_type": "code",
   "execution_count": 4,
   "metadata": {},
   "outputs": [
    {
     "data": {
      "text/html": [
       "<div>\n",
       "<style>\n",
       "    .dataframe thead tr:only-child th {\n",
       "        text-align: right;\n",
       "    }\n",
       "\n",
       "    .dataframe thead th {\n",
       "        text-align: left;\n",
       "    }\n",
       "\n",
       "    .dataframe tbody tr th {\n",
       "        vertical-align: top;\n",
       "    }\n",
       "</style>\n",
       "<table border=\"1\" class=\"dataframe\">\n",
       "  <thead>\n",
       "    <tr style=\"text-align: right;\">\n",
       "      <th></th>\n",
       "      <th>Unnamed: 0</th>\n",
       "      <th>product_name</th>\n",
       "      <th>product_id</th>\n",
       "      <th>rank</th>\n",
       "      <th>category</th>\n",
       "      <th>item_price</th>\n",
       "      <th>also_viewed</th>\n",
       "      <th>bought_together</th>\n",
       "      <th>also_bought</th>\n",
       "    </tr>\n",
       "  </thead>\n",
       "  <tbody>\n",
       "    <tr>\n",
       "      <th>0</th>\n",
       "      <td>0</td>\n",
       "      <td>Purple Sequin Tiny Dancer Tutu Ballet Dance Fa...</td>\n",
       "      <td>0000037214</td>\n",
       "      <td>1233557</td>\n",
       "      <td>Clothing</td>\n",
       "      <td>440.37</td>\n",
       "      <td>'B00JO8II76', 'B00DGN4R1Q', 'B00E1YRI4C'</td>\n",
       "      <td>NaN</td>\n",
       "      <td>NaN</td>\n",
       "    </tr>\n",
       "    <tr>\n",
       "      <th>1</th>\n",
       "      <td>3</td>\n",
       "      <td>RiZ Women's Beautify Crafted &amp;frac12; Rimmed F...</td>\n",
       "      <td>0456844570</td>\n",
       "      <td>1180499</td>\n",
       "      <td>Clothing</td>\n",
       "      <td>NaN</td>\n",
       "      <td>'B008MTRT1O', 'B00BUG47S4', 'B00GTVY0DC', 'B00...</td>\n",
       "      <td>NaN</td>\n",
       "      <td>NaN</td>\n",
       "    </tr>\n",
       "    <tr>\n",
       "      <th>2</th>\n",
       "      <td>4</td>\n",
       "      <td>Lantin White Visor Wrap Around Ski Style Aviat...</td>\n",
       "      <td>0456808574</td>\n",
       "      <td>1038084</td>\n",
       "      <td>Clothing</td>\n",
       "      <td>NaN</td>\n",
       "      <td>'B00A6JD8EA', 'B00BFL4FTA', 'B00JPI9AAO', 'B00...</td>\n",
       "      <td>NaN</td>\n",
       "      <td>NaN</td>\n",
       "    </tr>\n",
       "    <tr>\n",
       "      <th>3</th>\n",
       "      <td>7</td>\n",
       "      <td>Max-MPH Black - Large Wayfarer Sunglasses Avai...</td>\n",
       "      <td>0456840532</td>\n",
       "      <td>2728771</td>\n",
       "      <td>Clothing</td>\n",
       "      <td>NaN</td>\n",
       "      <td>'B001K9DPPC', 'B00BV9MU2K', 'B0042FHTDK', 'B00...</td>\n",
       "      <td>NaN</td>\n",
       "      <td>NaN</td>\n",
       "    </tr>\n",
       "    <tr>\n",
       "      <th>4</th>\n",
       "      <td>8</td>\n",
       "      <td>FX1 Small Adult Aviator Sunglasses with Silver...</td>\n",
       "      <td>0456787283</td>\n",
       "      <td>456854</td>\n",
       "      <td>Clothing</td>\n",
       "      <td>NaN</td>\n",
       "      <td>'B00AIPLH22', 'B005P1H8KO', 'B00CMCVKC6', 'B00...</td>\n",
       "      <td>NaN</td>\n",
       "      <td>NaN</td>\n",
       "    </tr>\n",
       "  </tbody>\n",
       "</table>\n",
       "</div>"
      ],
      "text/plain": [
       "   Unnamed: 0                                       product_name  product_id  \\\n",
       "0           0  Purple Sequin Tiny Dancer Tutu Ballet Dance Fa...  0000037214   \n",
       "1           3  RiZ Women's Beautify Crafted &frac12; Rimmed F...  0456844570   \n",
       "2           4  Lantin White Visor Wrap Around Ski Style Aviat...  0456808574   \n",
       "3           7  Max-MPH Black - Large Wayfarer Sunglasses Avai...  0456840532   \n",
       "4           8  FX1 Small Adult Aviator Sunglasses with Silver...  0456787283   \n",
       "\n",
       "      rank  category  item_price  \\\n",
       "0  1233557  Clothing      440.37   \n",
       "1  1180499  Clothing         NaN   \n",
       "2  1038084  Clothing         NaN   \n",
       "3  2728771  Clothing         NaN   \n",
       "4   456854  Clothing         NaN   \n",
       "\n",
       "                                         also_viewed bought_together  \\\n",
       "0           'B00JO8II76', 'B00DGN4R1Q', 'B00E1YRI4C'             NaN   \n",
       "1  'B008MTRT1O', 'B00BUG47S4', 'B00GTVY0DC', 'B00...             NaN   \n",
       "2  'B00A6JD8EA', 'B00BFL4FTA', 'B00JPI9AAO', 'B00...             NaN   \n",
       "3  'B001K9DPPC', 'B00BV9MU2K', 'B0042FHTDK', 'B00...             NaN   \n",
       "4  'B00AIPLH22', 'B005P1H8KO', 'B00CMCVKC6', 'B00...             NaN   \n",
       "\n",
       "  also_bought  \n",
       "0         NaN  \n",
       "1         NaN  \n",
       "2         NaN  \n",
       "3         NaN  \n",
       "4         NaN  "
      ]
     },
     "execution_count": 4,
     "metadata": {},
     "output_type": "execute_result"
    }
   ],
   "source": [
    "df.head()"
   ]
  },
  {
   "cell_type": "code",
   "execution_count": 6,
   "metadata": {
    "collapsed": true
   },
   "outputs": [],
   "source": [
    "df = df.drop([\"Unnamed: 0\"], axis = 1)"
   ]
  },
  {
   "cell_type": "code",
   "execution_count": 14,
   "metadata": {},
   "outputs": [],
   "source": [
    "X = X.drop([\"also_viewed\",\"bought_together\",\"also_bought\"], axis =1)"
   ]
  },
  {
   "cell_type": "code",
   "execution_count": 16,
   "metadata": {},
   "outputs": [
    {
     "data": {
      "text/html": [
       "<div>\n",
       "<style>\n",
       "    .dataframe thead tr:only-child th {\n",
       "        text-align: right;\n",
       "    }\n",
       "\n",
       "    .dataframe thead th {\n",
       "        text-align: left;\n",
       "    }\n",
       "\n",
       "    .dataframe tbody tr th {\n",
       "        vertical-align: top;\n",
       "    }\n",
       "</style>\n",
       "<table border=\"1\" class=\"dataframe\">\n",
       "  <thead>\n",
       "    <tr style=\"text-align: right;\">\n",
       "      <th></th>\n",
       "      <th>product_id</th>\n",
       "    </tr>\n",
       "  </thead>\n",
       "  <tbody>\n",
       "    <tr>\n",
       "      <th>0</th>\n",
       "      <td>0000037214</td>\n",
       "    </tr>\n",
       "    <tr>\n",
       "      <th>1</th>\n",
       "      <td>0456844570</td>\n",
       "    </tr>\n",
       "    <tr>\n",
       "      <th>2</th>\n",
       "      <td>0456808574</td>\n",
       "    </tr>\n",
       "    <tr>\n",
       "      <th>3</th>\n",
       "      <td>0456840532</td>\n",
       "    </tr>\n",
       "    <tr>\n",
       "      <th>4</th>\n",
       "      <td>0456787283</td>\n",
       "    </tr>\n",
       "  </tbody>\n",
       "</table>\n",
       "</div>"
      ],
      "text/plain": [
       "   product_id\n",
       "0  0000037214\n",
       "1  0456844570\n",
       "2  0456808574\n",
       "3  0456840532\n",
       "4  0456787283"
      ]
     },
     "execution_count": 16,
     "metadata": {},
     "output_type": "execute_result"
    }
   ],
   "source": [
    "X.head()"
   ]
  },
  {
   "cell_type": "code",
   "execution_count": 26,
   "metadata": {},
   "outputs": [],
   "source": [
    "y = df[\"also_viewed\"]"
   ]
  },
  {
   "cell_type": "code",
   "execution_count": 27,
   "metadata": {},
   "outputs": [
    {
     "data": {
      "text/plain": [
       "0                  'B00JO8II76', 'B00DGN4R1Q', 'B00E1YRI4C'\n",
       "1         'B008MTRT1O', 'B00BUG47S4', 'B00GTVY0DC', 'B00...\n",
       "2         'B00A6JD8EA', 'B00BFL4FTA', 'B00JPI9AAO', 'B00...\n",
       "3         'B001K9DPPC', 'B00BV9MU2K', 'B0042FHTDK', 'B00...\n",
       "4         'B00AIPLH22', 'B005P1H8KO', 'B00CMCVKC6', 'B00...\n",
       "5         'B001K9DPPC', 'B0042FHTDK', 'B00DGJJI0U', 'B00...\n",
       "6         'B00EPHEZJG', 'B001AL7ONO', 'B00GGAE5FO', 'B00...\n",
       "7         'B00CZ8YX8K', 'B00CYG0M2E', 'B00BWZ94P4', 'B00...\n",
       "8         'B00652TRR4', 'B00D8GLOTY', 'B00652U2ZK', 'B00...\n",
       "9         'B00D8GLOTY', 'B002BE6VIS', 'B00652U2ZK', 'B00...\n",
       "10        'B00652TRR4', 'B00652UFU2', 'B00693I356', 'B00...\n",
       "11        'B002WN2L6O', 'B00EO17NKQ', 'B0062N0EU0', 'B00...\n",
       "12                                             'B00DI6WQVE'\n",
       "13        'B00BSW70OS', 'B003VDZ3NM', 'B0083MZDYA', 'B00...\n",
       "14                                             'B0069BUI06'\n",
       "15                                             'B00BGBV3IA'\n",
       "16                 'B00HVH69SC', 'B00HZ1ELIY', 'B008O7UPKG'\n",
       "17        'B00DZQDA26', 'B00HTH1RDG', 'B00HTH1MWW', 'B00...\n",
       "18        'B008ZPZ9KS', 'B006CIHP7U', 'B006CIHP4S', 'B00...\n",
       "19        'B00BNX6KHA', 'B00HTH1RDG', 'B00K5200X0', 'B00...\n",
       "20        'B00CJVOWPC', 'B00EIGHAWS', 'B00GGG1JE8', 'B00...\n",
       "21        'B001AKC25A', 'B0054V1270', 'B00BMV6MW6', 'B00...\n",
       "22        'B009FSVI5O', 'B001AKC25A', 'B007LNW10G', 'B00...\n",
       "23                                             'B008ESLL1M'\n",
       "24        'B00FPNZ6T2', 'B00K5200X0', 'B000YD2C3G', 'B00...\n",
       "25        'B00CJVOWPC', 'B008STCQ5M', 'B00K5200X0', 'B00...\n",
       "26        'B00HTH1RDG', 'B00KFH83ES', 'B00DZQDA26', 'B00...\n",
       "27        'B00CRS2TL6', 'B00BK6HPRE', 'B00AG8GU9Q', 'B00...\n",
       "28        'B0042Z6YF4', 'B0042Z9IUW', 'B0084Z4ZPE', 'B00...\n",
       "29        'B008DD51O6', 'B004301ZL6', 'B008DD510A', 'B00...\n",
       "                                ...                        \n",
       "657621                                                  NaN\n",
       "657622                                                  NaN\n",
       "657623                                                  NaN\n",
       "657624                                                  NaN\n",
       "657625                                                  NaN\n",
       "657626                                                  NaN\n",
       "657627                                                  NaN\n",
       "657628                                                  NaN\n",
       "657629                                                  NaN\n",
       "657630                                                  NaN\n",
       "657631                                                  NaN\n",
       "657632                                                  NaN\n",
       "657633                                                  NaN\n",
       "657634                                                  NaN\n",
       "657635                                                  NaN\n",
       "657636                                                  NaN\n",
       "657637                                                  NaN\n",
       "657638                                                  NaN\n",
       "657639                                                  NaN\n",
       "657640                                                  NaN\n",
       "657641                                                  NaN\n",
       "657642                                                  NaN\n",
       "657643                                                  NaN\n",
       "657644                                                  NaN\n",
       "657645                                                  NaN\n",
       "657646                                                  NaN\n",
       "657647                                                  NaN\n",
       "657648                                                  NaN\n",
       "657649                                                  NaN\n",
       "657650                                                  NaN\n",
       "Name: also_viewed, Length: 657651, dtype: object"
      ]
     },
     "execution_count": 27,
     "metadata": {},
     "output_type": "execute_result"
    }
   ],
   "source": [
    "y"
   ]
  },
  {
   "cell_type": "code",
   "execution_count": 19,
   "metadata": {
    "collapsed": true
   },
   "outputs": [],
   "source": [
    "from sklearn.model_selection import train_test_split"
   ]
  },
  {
   "cell_type": "code",
   "execution_count": 20,
   "metadata": {},
   "outputs": [],
   "source": [
    "X_train, X_test, y_train, y_test = train_test_split(X, y, test_size=0.33, random_state=42)"
   ]
  },
  {
   "cell_type": "code",
   "execution_count": 23,
   "metadata": {},
   "outputs": [
    {
     "ename": "ValueError",
     "evalue": "could not convert string to float: 'B0040T0G74'",
     "output_type": "error",
     "traceback": [
      "\u001b[1;31m---------------------------------------------------------------------------\u001b[0m",
      "\u001b[1;31mValueError\u001b[0m                                Traceback (most recent call last)",
      "\u001b[1;32m<ipython-input-23-23388fe44e9f>\u001b[0m in \u001b[0;36m<module>\u001b[1;34m()\u001b[0m\n\u001b[0;32m      2\u001b[0m \u001b[0mrandom_forest\u001b[0m \u001b[1;33m=\u001b[0m \u001b[0mRandomForestClassifier\u001b[0m\u001b[1;33m(\u001b[0m\u001b[0mn_estimators\u001b[0m\u001b[1;33m=\u001b[0m\u001b[1;36m100\u001b[0m\u001b[1;33m)\u001b[0m\u001b[1;33m\u001b[0m\u001b[0m\n\u001b[0;32m      3\u001b[0m \u001b[1;33m\u001b[0m\u001b[0m\n\u001b[1;32m----> 4\u001b[1;33m \u001b[0mrandom_forest\u001b[0m\u001b[1;33m.\u001b[0m\u001b[0mfit\u001b[0m\u001b[1;33m(\u001b[0m\u001b[0mX_train\u001b[0m\u001b[1;33m,\u001b[0m \u001b[0my_train\u001b[0m\u001b[1;33m)\u001b[0m\u001b[1;33m\u001b[0m\u001b[0m\n\u001b[0m\u001b[0;32m      5\u001b[0m \u001b[1;33m\u001b[0m\u001b[0m\n\u001b[0;32m      6\u001b[0m \u001b[0my_pred\u001b[0m \u001b[1;33m=\u001b[0m \u001b[0mrandom_forest\u001b[0m\u001b[1;33m.\u001b[0m\u001b[0mpredict\u001b[0m\u001b[1;33m(\u001b[0m\u001b[0mX_test\u001b[0m\u001b[1;33m)\u001b[0m\u001b[1;33m\u001b[0m\u001b[0m\n",
      "\u001b[1;32mC:\\Users\\Adithya\\Anaconda\\lib\\site-packages\\sklearn\\ensemble\\forest.py\u001b[0m in \u001b[0;36mfit\u001b[1;34m(self, X, y, sample_weight)\u001b[0m\n\u001b[0;32m    245\u001b[0m         \"\"\"\n\u001b[0;32m    246\u001b[0m         \u001b[1;31m# Validate or convert input data\u001b[0m\u001b[1;33m\u001b[0m\u001b[1;33m\u001b[0m\u001b[0m\n\u001b[1;32m--> 247\u001b[1;33m         \u001b[0mX\u001b[0m \u001b[1;33m=\u001b[0m \u001b[0mcheck_array\u001b[0m\u001b[1;33m(\u001b[0m\u001b[0mX\u001b[0m\u001b[1;33m,\u001b[0m \u001b[0maccept_sparse\u001b[0m\u001b[1;33m=\u001b[0m\u001b[1;34m\"csc\"\u001b[0m\u001b[1;33m,\u001b[0m \u001b[0mdtype\u001b[0m\u001b[1;33m=\u001b[0m\u001b[0mDTYPE\u001b[0m\u001b[1;33m)\u001b[0m\u001b[1;33m\u001b[0m\u001b[0m\n\u001b[0m\u001b[0;32m    248\u001b[0m         \u001b[0my\u001b[0m \u001b[1;33m=\u001b[0m \u001b[0mcheck_array\u001b[0m\u001b[1;33m(\u001b[0m\u001b[0my\u001b[0m\u001b[1;33m,\u001b[0m \u001b[0maccept_sparse\u001b[0m\u001b[1;33m=\u001b[0m\u001b[1;34m'csc'\u001b[0m\u001b[1;33m,\u001b[0m \u001b[0mensure_2d\u001b[0m\u001b[1;33m=\u001b[0m\u001b[1;32mFalse\u001b[0m\u001b[1;33m,\u001b[0m \u001b[0mdtype\u001b[0m\u001b[1;33m=\u001b[0m\u001b[1;32mNone\u001b[0m\u001b[1;33m)\u001b[0m\u001b[1;33m\u001b[0m\u001b[0m\n\u001b[0;32m    249\u001b[0m         \u001b[1;32mif\u001b[0m \u001b[0missparse\u001b[0m\u001b[1;33m(\u001b[0m\u001b[0mX\u001b[0m\u001b[1;33m)\u001b[0m\u001b[1;33m:\u001b[0m\u001b[1;33m\u001b[0m\u001b[0m\n",
      "\u001b[1;32mC:\\Users\\Adithya\\Anaconda\\lib\\site-packages\\sklearn\\utils\\validation.py\u001b[0m in \u001b[0;36mcheck_array\u001b[1;34m(array, accept_sparse, dtype, order, copy, force_all_finite, ensure_2d, allow_nd, ensure_min_samples, ensure_min_features, warn_on_dtype, estimator)\u001b[0m\n\u001b[0;32m    380\u001b[0m                                       force_all_finite)\n\u001b[0;32m    381\u001b[0m     \u001b[1;32melse\u001b[0m\u001b[1;33m:\u001b[0m\u001b[1;33m\u001b[0m\u001b[0m\n\u001b[1;32m--> 382\u001b[1;33m         \u001b[0marray\u001b[0m \u001b[1;33m=\u001b[0m \u001b[0mnp\u001b[0m\u001b[1;33m.\u001b[0m\u001b[0marray\u001b[0m\u001b[1;33m(\u001b[0m\u001b[0marray\u001b[0m\u001b[1;33m,\u001b[0m \u001b[0mdtype\u001b[0m\u001b[1;33m=\u001b[0m\u001b[0mdtype\u001b[0m\u001b[1;33m,\u001b[0m \u001b[0morder\u001b[0m\u001b[1;33m=\u001b[0m\u001b[0morder\u001b[0m\u001b[1;33m,\u001b[0m \u001b[0mcopy\u001b[0m\u001b[1;33m=\u001b[0m\u001b[0mcopy\u001b[0m\u001b[1;33m)\u001b[0m\u001b[1;33m\u001b[0m\u001b[0m\n\u001b[0m\u001b[0;32m    383\u001b[0m \u001b[1;33m\u001b[0m\u001b[0m\n\u001b[0;32m    384\u001b[0m         \u001b[1;32mif\u001b[0m \u001b[0mensure_2d\u001b[0m\u001b[1;33m:\u001b[0m\u001b[1;33m\u001b[0m\u001b[0m\n",
      "\u001b[1;31mValueError\u001b[0m: could not convert string to float: 'B0040T0G74'"
     ]
    }
   ],
   "source": [
    "from sklearn.ensemble import RandomForestClassifier\n",
    "random_forest = RandomForestClassifier(n_estimators=100)\n",
    "\n",
    "random_forest.fit(X_train, y_train)\n",
    "\n",
    "y_pred = random_forest.predict(X_test)\n",
    "\n",
    "random_forest.score(X_train, y_train)\n",
    "\n"
   ]
  },
  {
   "cell_type": "code",
   "execution_count": null,
   "metadata": {
    "collapsed": true
   },
   "outputs": [],
   "source": []
  }
 ],
 "metadata": {
  "kernelspec": {
   "display_name": "Python 3",
   "language": "python",
   "name": "python3"
  },
  "language_info": {
   "codemirror_mode": {
    "name": "ipython",
    "version": 3
   },
   "file_extension": ".py",
   "mimetype": "text/x-python",
   "name": "python",
   "nbconvert_exporter": "python",
   "pygments_lexer": "ipython3",
   "version": "3.6.1"
  }
 },
 "nbformat": 4,
 "nbformat_minor": 2
}
