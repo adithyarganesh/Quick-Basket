{
 "cells": [
  {
   "cell_type": "code",
   "execution_count": 1,
   "metadata": {
    "collapsed": true
   },
   "outputs": [],
   "source": [
    "import pandas as pd\n",
    "import numpy as np"
   ]
  },
  {
   "cell_type": "code",
   "execution_count": 2,
   "metadata": {},
   "outputs": [
    {
     "name": "stderr",
     "output_type": "stream",
     "text": [
      "C:\\Users\\Adithya\\Anaconda\\lib\\site-packages\\IPython\\core\\interactiveshell.py:2717: DtypeWarning: Columns (6,7,8) have mixed types. Specify dtype option on import or set low_memory=False.\n",
      "  interactivity=interactivity, compiler=compiler, result=result)\n"
     ]
    }
   ],
   "source": [
    "df = pd.read_csv(\"just_clothing.csv\")"
   ]
  },
  {
   "cell_type": "code",
   "execution_count": 3,
   "metadata": {},
   "outputs": [
    {
     "data": {
      "text/html": [
       "<div>\n",
       "<style>\n",
       "    .dataframe thead tr:only-child th {\n",
       "        text-align: right;\n",
       "    }\n",
       "\n",
       "    .dataframe thead th {\n",
       "        text-align: left;\n",
       "    }\n",
       "\n",
       "    .dataframe tbody tr th {\n",
       "        vertical-align: top;\n",
       "    }\n",
       "</style>\n",
       "<table border=\"1\" class=\"dataframe\">\n",
       "  <thead>\n",
       "    <tr style=\"text-align: right;\">\n",
       "      <th></th>\n",
       "      <th>Unnamed: 0</th>\n",
       "      <th>product_name</th>\n",
       "      <th>product_id</th>\n",
       "      <th>rank</th>\n",
       "      <th>category</th>\n",
       "      <th>item_price</th>\n",
       "      <th>also_viewed</th>\n",
       "      <th>bought_together</th>\n",
       "      <th>also_bought</th>\n",
       "    </tr>\n",
       "  </thead>\n",
       "  <tbody>\n",
       "    <tr>\n",
       "      <th>0</th>\n",
       "      <td>0</td>\n",
       "      <td>Purple Sequin Tiny Dancer Tutu Ballet Dance Fa...</td>\n",
       "      <td>0000037214</td>\n",
       "      <td>1233557</td>\n",
       "      <td>Clothing</td>\n",
       "      <td>440.37</td>\n",
       "      <td>'B00JO8II76', 'B00DGN4R1Q', 'B00E1YRI4C'</td>\n",
       "      <td>NaN</td>\n",
       "      <td>NaN</td>\n",
       "    </tr>\n",
       "    <tr>\n",
       "      <th>1</th>\n",
       "      <td>3</td>\n",
       "      <td>RiZ Women's Beautify Crafted &amp;frac12; Rimmed F...</td>\n",
       "      <td>0456844570</td>\n",
       "      <td>1180499</td>\n",
       "      <td>Clothing</td>\n",
       "      <td>NaN</td>\n",
       "      <td>'B008MTRT1O', 'B00BUG47S4', 'B00GTVY0DC', 'B00...</td>\n",
       "      <td>NaN</td>\n",
       "      <td>NaN</td>\n",
       "    </tr>\n",
       "    <tr>\n",
       "      <th>2</th>\n",
       "      <td>4</td>\n",
       "      <td>Lantin White Visor Wrap Around Ski Style Aviat...</td>\n",
       "      <td>0456808574</td>\n",
       "      <td>1038084</td>\n",
       "      <td>Clothing</td>\n",
       "      <td>NaN</td>\n",
       "      <td>'B00A6JD8EA', 'B00BFL4FTA', 'B00JPI9AAO', 'B00...</td>\n",
       "      <td>NaN</td>\n",
       "      <td>NaN</td>\n",
       "    </tr>\n",
       "    <tr>\n",
       "      <th>3</th>\n",
       "      <td>7</td>\n",
       "      <td>Max-MPH Black - Large Wayfarer Sunglasses Avai...</td>\n",
       "      <td>0456840532</td>\n",
       "      <td>2728771</td>\n",
       "      <td>Clothing</td>\n",
       "      <td>NaN</td>\n",
       "      <td>'B001K9DPPC', 'B00BV9MU2K', 'B0042FHTDK', 'B00...</td>\n",
       "      <td>NaN</td>\n",
       "      <td>NaN</td>\n",
       "    </tr>\n",
       "    <tr>\n",
       "      <th>4</th>\n",
       "      <td>8</td>\n",
       "      <td>FX1 Small Adult Aviator Sunglasses with Silver...</td>\n",
       "      <td>0456787283</td>\n",
       "      <td>456854</td>\n",
       "      <td>Clothing</td>\n",
       "      <td>NaN</td>\n",
       "      <td>'B00AIPLH22', 'B005P1H8KO', 'B00CMCVKC6', 'B00...</td>\n",
       "      <td>NaN</td>\n",
       "      <td>NaN</td>\n",
       "    </tr>\n",
       "  </tbody>\n",
       "</table>\n",
       "</div>"
      ],
      "text/plain": [
       "   Unnamed: 0                                       product_name  product_id  \\\n",
       "0           0  Purple Sequin Tiny Dancer Tutu Ballet Dance Fa...  0000037214   \n",
       "1           3  RiZ Women's Beautify Crafted &frac12; Rimmed F...  0456844570   \n",
       "2           4  Lantin White Visor Wrap Around Ski Style Aviat...  0456808574   \n",
       "3           7  Max-MPH Black - Large Wayfarer Sunglasses Avai...  0456840532   \n",
       "4           8  FX1 Small Adult Aviator Sunglasses with Silver...  0456787283   \n",
       "\n",
       "      rank  category  item_price  \\\n",
       "0  1233557  Clothing      440.37   \n",
       "1  1180499  Clothing         NaN   \n",
       "2  1038084  Clothing         NaN   \n",
       "3  2728771  Clothing         NaN   \n",
       "4   456854  Clothing         NaN   \n",
       "\n",
       "                                         also_viewed bought_together  \\\n",
       "0           'B00JO8II76', 'B00DGN4R1Q', 'B00E1YRI4C'             NaN   \n",
       "1  'B008MTRT1O', 'B00BUG47S4', 'B00GTVY0DC', 'B00...             NaN   \n",
       "2  'B00A6JD8EA', 'B00BFL4FTA', 'B00JPI9AAO', 'B00...             NaN   \n",
       "3  'B001K9DPPC', 'B00BV9MU2K', 'B0042FHTDK', 'B00...             NaN   \n",
       "4  'B00AIPLH22', 'B005P1H8KO', 'B00CMCVKC6', 'B00...             NaN   \n",
       "\n",
       "  also_bought  \n",
       "0         NaN  \n",
       "1         NaN  \n",
       "2         NaN  \n",
       "3         NaN  \n",
       "4         NaN  "
      ]
     },
     "execution_count": 3,
     "metadata": {},
     "output_type": "execute_result"
    }
   ],
   "source": [
    "df.head()"
   ]
  },
  {
   "cell_type": "code",
   "execution_count": 10,
   "metadata": {
    "collapsed": true
   },
   "outputs": [],
   "source": [
    "df = df.drop([\"product_id\"], axis = 1)"
   ]
  },
  {
   "cell_type": "code",
   "execution_count": 4,
   "metadata": {
    "collapsed": true
   },
   "outputs": [],
   "source": [
    "df[\"pid\"] = df[\"product_id\"]\n",
    "df[\"pname\"] = df[\"product_name\"]\n",
    "df[\"price\"] = df[\"item_price\"]\n",
    "df[\"rec\"] = df[\"also_viewed\"]"
   ]
  },
  {
   "cell_type": "code",
   "execution_count": 6,
   "metadata": {
    "collapsed": true
   },
   "outputs": [],
   "source": [
    "df[\"price\"] = df[\"price\"].fillna(\"500\").astype(int)"
   ]
  },
  {
   "cell_type": "code",
   "execution_count": 7,
   "metadata": {},
   "outputs": [
    {
     "data": {
      "text/html": [
       "<div>\n",
       "<style>\n",
       "    .dataframe thead tr:only-child th {\n",
       "        text-align: right;\n",
       "    }\n",
       "\n",
       "    .dataframe thead th {\n",
       "        text-align: left;\n",
       "    }\n",
       "\n",
       "    .dataframe tbody tr th {\n",
       "        vertical-align: top;\n",
       "    }\n",
       "</style>\n",
       "<table border=\"1\" class=\"dataframe\">\n",
       "  <thead>\n",
       "    <tr style=\"text-align: right;\">\n",
       "      <th></th>\n",
       "      <th>product_id</th>\n",
       "      <th>pid</th>\n",
       "      <th>pname</th>\n",
       "      <th>price</th>\n",
       "      <th>rec</th>\n",
       "    </tr>\n",
       "  </thead>\n",
       "  <tbody>\n",
       "    <tr>\n",
       "      <th>0</th>\n",
       "      <td>0000037214</td>\n",
       "      <td>0000037214</td>\n",
       "      <td>Purple Sequin Tiny Dancer Tutu Ballet Dance Fa...</td>\n",
       "      <td>440</td>\n",
       "      <td>'B00JO8II76', 'B00DGN4R1Q', 'B00E1YRI4C'</td>\n",
       "    </tr>\n",
       "    <tr>\n",
       "      <th>1</th>\n",
       "      <td>0456844570</td>\n",
       "      <td>0456844570</td>\n",
       "      <td>RiZ Women's Beautify Crafted &amp;frac12; Rimmed F...</td>\n",
       "      <td>500</td>\n",
       "      <td>'B008MTRT1O', 'B00BUG47S4', 'B00GTVY0DC', 'B00...</td>\n",
       "    </tr>\n",
       "    <tr>\n",
       "      <th>2</th>\n",
       "      <td>0456808574</td>\n",
       "      <td>0456808574</td>\n",
       "      <td>Lantin White Visor Wrap Around Ski Style Aviat...</td>\n",
       "      <td>500</td>\n",
       "      <td>'B00A6JD8EA', 'B00BFL4FTA', 'B00JPI9AAO', 'B00...</td>\n",
       "    </tr>\n",
       "    <tr>\n",
       "      <th>3</th>\n",
       "      <td>0456840532</td>\n",
       "      <td>0456840532</td>\n",
       "      <td>Max-MPH Black - Large Wayfarer Sunglasses Avai...</td>\n",
       "      <td>500</td>\n",
       "      <td>'B001K9DPPC', 'B00BV9MU2K', 'B0042FHTDK', 'B00...</td>\n",
       "    </tr>\n",
       "    <tr>\n",
       "      <th>4</th>\n",
       "      <td>0456787283</td>\n",
       "      <td>0456787283</td>\n",
       "      <td>FX1 Small Adult Aviator Sunglasses with Silver...</td>\n",
       "      <td>500</td>\n",
       "      <td>'B00AIPLH22', 'B005P1H8KO', 'B00CMCVKC6', 'B00...</td>\n",
       "    </tr>\n",
       "  </tbody>\n",
       "</table>\n",
       "</div>"
      ],
      "text/plain": [
       "   product_id         pid                                              pname  \\\n",
       "0  0000037214  0000037214  Purple Sequin Tiny Dancer Tutu Ballet Dance Fa...   \n",
       "1  0456844570  0456844570  RiZ Women's Beautify Crafted &frac12; Rimmed F...   \n",
       "2  0456808574  0456808574  Lantin White Visor Wrap Around Ski Style Aviat...   \n",
       "3  0456840532  0456840532  Max-MPH Black - Large Wayfarer Sunglasses Avai...   \n",
       "4  0456787283  0456787283  FX1 Small Adult Aviator Sunglasses with Silver...   \n",
       "\n",
       "   price                                                rec  \n",
       "0    440           'B00JO8II76', 'B00DGN4R1Q', 'B00E1YRI4C'  \n",
       "1    500  'B008MTRT1O', 'B00BUG47S4', 'B00GTVY0DC', 'B00...  \n",
       "2    500  'B00A6JD8EA', 'B00BFL4FTA', 'B00JPI9AAO', 'B00...  \n",
       "3    500  'B001K9DPPC', 'B00BV9MU2K', 'B0042FHTDK', 'B00...  \n",
       "4    500  'B00AIPLH22', 'B005P1H8KO', 'B00CMCVKC6', 'B00...  "
      ]
     },
     "execution_count": 7,
     "metadata": {},
     "output_type": "execute_result"
    }
   ],
   "source": [
    "df.head()"
   ]
  },
  {
   "cell_type": "code",
   "execution_count": 8,
   "metadata": {
    "collapsed": true
   },
   "outputs": [],
   "source": [
    "df = df.replace({\"'\": \"\"}, regex=True)"
   ]
  },
  {
   "cell_type": "code",
   "execution_count": 44,
   "metadata": {},
   "outputs": [
    {
     "name": "stdout",
     "output_type": "stream",
     "text": [
      "<class 'pandas.core.frame.DataFrame'>\n",
      "RangeIndex: 657651 entries, 0 to 657650\n",
      "Data columns (total 4 columns):\n",
      "pid      657651 non-null object\n",
      "pname    657645 non-null object\n",
      "price    657651 non-null int32\n",
      "rec      378218 non-null object\n",
      "dtypes: int32(1), object(3)\n",
      "memory usage: 17.6+ MB\n"
     ]
    }
   ],
   "source": [
    "df.info()"
   ]
  },
  {
   "cell_type": "code",
   "execution_count": 31,
   "metadata": {
    "collapsed": true
   },
   "outputs": [],
   "source": [
    "part = part.drop([\"rank\",\"item_price\",\"also_viewed\",\"also_bought\",\"bought_together\"],axis = 1)"
   ]
  },
  {
   "cell_type": "code",
   "execution_count": 33,
   "metadata": {},
   "outputs": [
    {
     "data": {
      "text/html": [
       "<div>\n",
       "<style>\n",
       "    .dataframe thead tr:only-child th {\n",
       "        text-align: right;\n",
       "    }\n",
       "\n",
       "    .dataframe thead th {\n",
       "        text-align: left;\n",
       "    }\n",
       "\n",
       "    .dataframe tbody tr th {\n",
       "        vertical-align: top;\n",
       "    }\n",
       "</style>\n",
       "<table border=\"1\" class=\"dataframe\">\n",
       "  <thead>\n",
       "    <tr style=\"text-align: right;\">\n",
       "      <th></th>\n",
       "      <th>product_name</th>\n",
       "      <th>product_id</th>\n",
       "    </tr>\n",
       "  </thead>\n",
       "  <tbody>\n",
       "    <tr>\n",
       "      <th>0</th>\n",
       "      <td>Purple Sequin Tiny Dancer Tutu Ballet Dance Fa...</td>\n",
       "      <td>0000037214</td>\n",
       "    </tr>\n",
       "    <tr>\n",
       "      <th>1</th>\n",
       "      <td>RiZ Women's Beautify Crafted &amp;frac12; Rimmed F...</td>\n",
       "      <td>0456844570</td>\n",
       "    </tr>\n",
       "    <tr>\n",
       "      <th>2</th>\n",
       "      <td>Lantin White Visor Wrap Around Ski Style Aviat...</td>\n",
       "      <td>0456808574</td>\n",
       "    </tr>\n",
       "    <tr>\n",
       "      <th>3</th>\n",
       "      <td>Max-MPH Black - Large Wayfarer Sunglasses Avai...</td>\n",
       "      <td>0456840532</td>\n",
       "    </tr>\n",
       "    <tr>\n",
       "      <th>4</th>\n",
       "      <td>FX1 Small Adult Aviator Sunglasses with Silver...</td>\n",
       "      <td>0456787283</td>\n",
       "    </tr>\n",
       "  </tbody>\n",
       "</table>\n",
       "</div>"
      ],
      "text/plain": [
       "                                        product_name  product_id\n",
       "0  Purple Sequin Tiny Dancer Tutu Ballet Dance Fa...  0000037214\n",
       "1  RiZ Women's Beautify Crafted &frac12; Rimmed F...  0456844570\n",
       "2  Lantin White Visor Wrap Around Ski Style Aviat...  0456808574\n",
       "3  Max-MPH Black - Large Wayfarer Sunglasses Avai...  0456840532\n",
       "4  FX1 Small Adult Aviator Sunglasses with Silver...  0456787283"
      ]
     },
     "execution_count": 33,
     "metadata": {},
     "output_type": "execute_result"
    }
   ],
   "source": [
    "part.head()"
   ]
  },
  {
   "cell_type": "code",
   "execution_count": 33,
   "metadata": {
    "collapsed": true
   },
   "outputs": [],
   "source": [
    "# part.to_csv(\"name_id.csv\")\n",
    "df.to_csv(\"pinfo.csv\", index = False)"
   ]
  },
  {
   "cell_type": "code",
   "execution_count": 32,
   "metadata": {},
   "outputs": [],
   "source": [
    "df = df.replace({\"B00JO8II76\": \"242246184243\"}, regex=True)"
   ]
  },
  {
   "cell_type": "code",
   "execution_count": 63,
   "metadata": {
    "collapsed": true
   },
   "outputs": [],
   "source": [
    "a = df[:3500]"
   ]
  },
  {
   "cell_type": "code",
   "execution_count": 64,
   "metadata": {},
   "outputs": [
    {
     "data": {
      "text/html": [
       "<div>\n",
       "<style>\n",
       "    .dataframe thead tr:only-child th {\n",
       "        text-align: right;\n",
       "    }\n",
       "\n",
       "    .dataframe thead th {\n",
       "        text-align: left;\n",
       "    }\n",
       "\n",
       "    .dataframe tbody tr th {\n",
       "        vertical-align: top;\n",
       "    }\n",
       "</style>\n",
       "<table border=\"1\" class=\"dataframe\">\n",
       "  <thead>\n",
       "    <tr style=\"text-align: right;\">\n",
       "      <th></th>\n",
       "      <th>pid</th>\n",
       "      <th>pname</th>\n",
       "      <th>price</th>\n",
       "      <th>rec</th>\n",
       "    </tr>\n",
       "  </thead>\n",
       "  <tbody>\n",
       "    <tr>\n",
       "      <th>0</th>\n",
       "      <td>50135138243</td>\n",
       "      <td>Purple Sequin Tiny Dancer Tutu Ballet Dance Fa...</td>\n",
       "      <td>440</td>\n",
       "      <td>242246184243, B00DGN4R1Q, B00E1YRI4C</td>\n",
       "    </tr>\n",
       "    <tr>\n",
       "      <th>1</th>\n",
       "      <td>0456844570</td>\n",
       "      <td>RiZ Womens Beautify Crafted &amp;frac12; Rimmed Fl...</td>\n",
       "      <td>500</td>\n",
       "      <td>B008MTRT1O, B00BUG47S4, B00GTVY0DC, B00J16GCAQ...</td>\n",
       "    </tr>\n",
       "    <tr>\n",
       "      <th>2</th>\n",
       "      <td>1692721125</td>\n",
       "      <td>Lantin White Visor Wrap Around Ski Style Aviat...</td>\n",
       "      <td>500</td>\n",
       "      <td>B00A6JD8EA, B00BFL4FTA, B00JPI9AAO, B005WF42SY...</td>\n",
       "    </tr>\n",
       "    <tr>\n",
       "      <th>3</th>\n",
       "      <td>13040199243</td>\n",
       "      <td>Max-MPH Black - Large Wayfarer Sunglasses Avai...</td>\n",
       "      <td>500</td>\n",
       "      <td>B001K9DPPC, B00BV9MU2K, B0042FHTDK, B003KK5LEW...</td>\n",
       "    </tr>\n",
       "    <tr>\n",
       "      <th>4</th>\n",
       "      <td>17846162243</td>\n",
       "      <td>FX1 Small Adult Aviator Sunglasses with Silver...</td>\n",
       "      <td>500</td>\n",
       "      <td>B00AIPLH22, B005P1H8KO, B00CMCVKC6, B002ACNX2I...</td>\n",
       "    </tr>\n",
       "  </tbody>\n",
       "</table>\n",
       "</div>"
      ],
      "text/plain": [
       "           pid                                              pname  price  \\\n",
       "0  50135138243  Purple Sequin Tiny Dancer Tutu Ballet Dance Fa...    440   \n",
       "1   0456844570  RiZ Womens Beautify Crafted &frac12; Rimmed Fl...    500   \n",
       "2   1692721125  Lantin White Visor Wrap Around Ski Style Aviat...    500   \n",
       "3  13040199243  Max-MPH Black - Large Wayfarer Sunglasses Avai...    500   \n",
       "4  17846162243  FX1 Small Adult Aviator Sunglasses with Silver...    500   \n",
       "\n",
       "                                                 rec  \n",
       "0               242246184243, B00DGN4R1Q, B00E1YRI4C  \n",
       "1  B008MTRT1O, B00BUG47S4, B00GTVY0DC, B00J16GCAQ...  \n",
       "2  B00A6JD8EA, B00BFL4FTA, B00JPI9AAO, B005WF42SY...  \n",
       "3  B001K9DPPC, B00BV9MU2K, B0042FHTDK, B003KK5LEW...  \n",
       "4  B00AIPLH22, B005P1H8KO, B00CMCVKC6, B002ACNX2I...  "
      ]
     },
     "execution_count": 64,
     "metadata": {},
     "output_type": "execute_result"
    }
   ],
   "source": [
    "a.head()"
   ]
  },
  {
   "cell_type": "code",
   "execution_count": 65,
   "metadata": {},
   "outputs": [],
   "source": [
    "a.to_csv(\"100.csv\",index =  False)"
   ]
  },
  {
   "cell_type": "code",
   "execution_count": null,
   "metadata": {
    "collapsed": true
   },
   "outputs": [],
   "source": []
  },
  {
   "cell_type": "code",
   "execution_count": null,
   "metadata": {
    "collapsed": true
   },
   "outputs": [],
   "source": []
  }
 ],
 "metadata": {
  "kernelspec": {
   "display_name": "Python 3",
   "language": "python",
   "name": "python3"
  },
  "language_info": {
   "codemirror_mode": {
    "name": "ipython",
    "version": 3
   },
   "file_extension": ".py",
   "mimetype": "text/x-python",
   "name": "python",
   "nbconvert_exporter": "python",
   "pygments_lexer": "ipython3",
   "version": "3.6.1"
  }
 },
 "nbformat": 4,
 "nbformat_minor": 2
}
