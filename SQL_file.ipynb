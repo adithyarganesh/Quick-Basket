{
 "cells": [
  {
   "cell_type": "code",
   "execution_count": 1,
   "metadata": {
    "collapsed": true
   },
   "outputs": [],
   "source": [
    "import pandas as pd\n",
    "import numpy as np"
   ]
  },
  {
   "cell_type": "code",
   "execution_count": 3,
   "metadata": {
    "collapsed": true
   },
   "outputs": [],
   "source": [
    "df = pd.read_csv(\"Cleaned_data.csv\",dtype = str)"
   ]
  },
  {
   "cell_type": "code",
   "execution_count": 4,
   "metadata": {},
   "outputs": [
    {
     "data": {
      "text/html": [
       "<div>\n",
       "<style scoped>\n",
       "    .dataframe tbody tr th:only-of-type {\n",
       "        vertical-align: middle;\n",
       "    }\n",
       "\n",
       "    .dataframe tbody tr th {\n",
       "        vertical-align: top;\n",
       "    }\n",
       "\n",
       "    .dataframe thead th {\n",
       "        text-align: right;\n",
       "    }\n",
       "</style>\n",
       "<table border=\"1\" class=\"dataframe\">\n",
       "  <thead>\n",
       "    <tr style=\"text-align: right;\">\n",
       "      <th></th>\n",
       "      <th>Unnamed: 0</th>\n",
       "      <th>product_name</th>\n",
       "      <th>product_id</th>\n",
       "      <th>item_price</th>\n",
       "      <th>also_viewed</th>\n",
       "      <th>bought_together</th>\n",
       "      <th>also_bought</th>\n",
       "      <th>rank</th>\n",
       "    </tr>\n",
       "  </thead>\n",
       "  <tbody>\n",
       "    <tr>\n",
       "      <th>0</th>\n",
       "      <td>826936</td>\n",
       "      <td>U.S. Polo Assn. Sport Men's US9061 Watch with ...</td>\n",
       "      <td>B008D902Q2</td>\n",
       "      <td>1385.37</td>\n",
       "      <td>'B00E955EOO', 'B00DJ242ZK', 'B00AFXL15A', 'B00...</td>\n",
       "      <td>'B00E955EOO', 'B00DJ242ZK', 'B00J2L4EUA', 'B00...</td>\n",
       "      <td>'B00E955EOO', 'B00DJ242ZK', 'B00ENG7WGC', 'B00...</td>\n",
       "      <td>1</td>\n",
       "    </tr>\n",
       "    <tr>\n",
       "      <th>1</th>\n",
       "      <td>583</td>\n",
       "      <td>Converse Unisex Chuck Taylor Classic Colors Sn...</td>\n",
       "      <td>B000072UN4</td>\n",
       "      <td>NaN</td>\n",
       "      <td>'B001IX6F1G'</td>\n",
       "      <td>'B001IX6F1G', 'B009ZPWMIE'</td>\n",
       "      <td>NaN</td>\n",
       "      <td>10</td>\n",
       "    </tr>\n",
       "    <tr>\n",
       "      <th>2</th>\n",
       "      <td>591</td>\n",
       "      <td>Converse Unisex Chuck Taylor Classic Colors Sn...</td>\n",
       "      <td>B000072UN1</td>\n",
       "      <td>NaN</td>\n",
       "      <td>'B005BMCKVE', 'B0000AS4YH', 'B005BMEJCW', 'B00...</td>\n",
       "      <td>'B000VHW3M0'</td>\n",
       "      <td>NaN</td>\n",
       "      <td>10</td>\n",
       "    </tr>\n",
       "    <tr>\n",
       "      <th>3</th>\n",
       "      <td>594</td>\n",
       "      <td>Converse Unisex Chuck Taylor Classic Colors Sn...</td>\n",
       "      <td>B000072UMJ</td>\n",
       "      <td>NaN</td>\n",
       "      <td>'B000AP4ZZG', 'B000APACVW', 'B008LQR36O', 'B00...</td>\n",
       "      <td>'B000APACVW', 'B000AP4ZZG', 'B008LQR36O', 'B00...</td>\n",
       "      <td>'B000APACVW', 'B008LQR36O', 'B000AP4ZZG', 'B00...</td>\n",
       "      <td>10</td>\n",
       "    </tr>\n",
       "    <tr>\n",
       "      <th>4</th>\n",
       "      <td>425689</td>\n",
       "      <td>Wholesale Lot of 50Pc 14G Belly Button Navel R...</td>\n",
       "      <td>B004HWZLBA</td>\n",
       "      <td>116.55000000000001</td>\n",
       "      <td>'B00A3S40Z0', 'B00B4022II', 'B00AWP6BGU', 'B00...</td>\n",
       "      <td>'B00A3S40Z0', 'B00B4022II', 'B00BXF2CJS', 'B00...</td>\n",
       "      <td>'B00BXF2CJS', 'B00B4022II', 'B00A3S40Z0', 'B00...</td>\n",
       "      <td>10</td>\n",
       "    </tr>\n",
       "  </tbody>\n",
       "</table>\n",
       "</div>"
      ],
      "text/plain": [
       "  Unnamed: 0                                       product_name  product_id  \\\n",
       "0     826936  U.S. Polo Assn. Sport Men's US9061 Watch with ...  B008D902Q2   \n",
       "1        583  Converse Unisex Chuck Taylor Classic Colors Sn...  B000072UN4   \n",
       "2        591  Converse Unisex Chuck Taylor Classic Colors Sn...  B000072UN1   \n",
       "3        594  Converse Unisex Chuck Taylor Classic Colors Sn...  B000072UMJ   \n",
       "4     425689  Wholesale Lot of 50Pc 14G Belly Button Navel R...  B004HWZLBA   \n",
       "\n",
       "           item_price                                        also_viewed  \\\n",
       "0             1385.37  'B00E955EOO', 'B00DJ242ZK', 'B00AFXL15A', 'B00...   \n",
       "1                 NaN                                       'B001IX6F1G'   \n",
       "2                 NaN  'B005BMCKVE', 'B0000AS4YH', 'B005BMEJCW', 'B00...   \n",
       "3                 NaN  'B000AP4ZZG', 'B000APACVW', 'B008LQR36O', 'B00...   \n",
       "4  116.55000000000001  'B00A3S40Z0', 'B00B4022II', 'B00AWP6BGU', 'B00...   \n",
       "\n",
       "                                     bought_together  \\\n",
       "0  'B00E955EOO', 'B00DJ242ZK', 'B00J2L4EUA', 'B00...   \n",
       "1                         'B001IX6F1G', 'B009ZPWMIE'   \n",
       "2                                       'B000VHW3M0'   \n",
       "3  'B000APACVW', 'B000AP4ZZG', 'B008LQR36O', 'B00...   \n",
       "4  'B00A3S40Z0', 'B00B4022II', 'B00BXF2CJS', 'B00...   \n",
       "\n",
       "                                         also_bought rank  \n",
       "0  'B00E955EOO', 'B00DJ242ZK', 'B00ENG7WGC', 'B00...    1  \n",
       "1                                                NaN   10  \n",
       "2                                                NaN   10  \n",
       "3  'B000APACVW', 'B008LQR36O', 'B000AP4ZZG', 'B00...   10  \n",
       "4  'B00BXF2CJS', 'B00B4022II', 'B00A3S40Z0', 'B00...   10  "
      ]
     },
     "execution_count": 4,
     "metadata": {},
     "output_type": "execute_result"
    }
   ],
   "source": [
    "df.head()"
   ]
  },
  {
   "cell_type": "code",
   "execution_count": 5,
   "metadata": {},
   "outputs": [
    {
     "name": "stdout",
     "output_type": "stream",
     "text": [
      "<class 'pandas.core.frame.DataFrame'>\n",
      "RangeIndex: 1503384 entries, 0 to 1503383\n",
      "Data columns (total 8 columns):\n",
      "Unnamed: 0         1503384 non-null object\n",
      "product_name       1502696 non-null object\n",
      "product_id         1503384 non-null object\n",
      "item_price         574882 non-null object\n",
      "also_viewed        1001533 non-null object\n",
      "bought_together    646136 non-null object\n",
      "also_bought        444130 non-null object\n",
      "rank               942872 non-null object\n",
      "dtypes: object(8)\n",
      "memory usage: 91.8+ MB\n"
     ]
    }
   ],
   "source": [
    "df.info()"
   ]
  },
  {
   "cell_type": "code",
   "execution_count": 6,
   "metadata": {
    "collapsed": true
   },
   "outputs": [],
   "source": [
    "new_df = df.sort_values(\"Unnamed: 0\")"
   ]
  },
  {
   "cell_type": "code",
   "execution_count": 7,
   "metadata": {},
   "outputs": [
    {
     "data": {
      "text/html": [
       "<div>\n",
       "<style scoped>\n",
       "    .dataframe tbody tr th:only-of-type {\n",
       "        vertical-align: middle;\n",
       "    }\n",
       "\n",
       "    .dataframe tbody tr th {\n",
       "        vertical-align: top;\n",
       "    }\n",
       "\n",
       "    .dataframe thead th {\n",
       "        text-align: right;\n",
       "    }\n",
       "</style>\n",
       "<table border=\"1\" class=\"dataframe\">\n",
       "  <thead>\n",
       "    <tr style=\"text-align: right;\">\n",
       "      <th></th>\n",
       "      <th>Unnamed: 0</th>\n",
       "      <th>product_name</th>\n",
       "      <th>product_id</th>\n",
       "      <th>item_price</th>\n",
       "      <th>also_viewed</th>\n",
       "      <th>bought_together</th>\n",
       "      <th>also_bought</th>\n",
       "      <th>rank</th>\n",
       "    </tr>\n",
       "  </thead>\n",
       "  <tbody>\n",
       "    <tr>\n",
       "      <th>88736</th>\n",
       "      <td>0</td>\n",
       "      <td>Purple Sequin Tiny Dancer Tutu Ballet Dance Fa...</td>\n",
       "      <td>0000037214</td>\n",
       "      <td>440.37</td>\n",
       "      <td>'B00JO8II76', 'B00DGN4R1Q', 'B00E1YRI4C'</td>\n",
       "      <td>NaN</td>\n",
       "      <td>NaN</td>\n",
       "      <td>1233557</td>\n",
       "    </tr>\n",
       "    <tr>\n",
       "      <th>874912</th>\n",
       "      <td>1</td>\n",
       "      <td>Ballet Dress-Up Fairy Tutu</td>\n",
       "      <td>0000031887</td>\n",
       "      <td>427.77</td>\n",
       "      <td>'B00E1YRI4C', 'B00D23MC6W', 'B00AFDOPDA', 'B00...</td>\n",
       "      <td>'B00D23MC6W'</td>\n",
       "      <td>'0000031852', '0000031895', '0000031909', 'B00...</td>\n",
       "      <td>8547</td>\n",
       "    </tr>\n",
       "    <tr>\n",
       "      <th>942872</th>\n",
       "      <td>10</td>\n",
       "      <td>Red Crocodile Embossed Leather Travel Wallet</td>\n",
       "      <td>0641674791</td>\n",
       "      <td>NaN</td>\n",
       "      <td>'B00A8OV6R4', 'B00A8P5M96', 'B00A80A9EY', 'B00...</td>\n",
       "      <td>NaN</td>\n",
       "      <td>NaN</td>\n",
       "      <td>NaN</td>\n",
       "    </tr>\n",
       "    <tr>\n",
       "      <th>732290</th>\n",
       "      <td>100</td>\n",
       "      <td>Shungite. Obereg GLAZ GORA Na podveske / Shung...</td>\n",
       "      <td>5699031936</td>\n",
       "      <td>NaN</td>\n",
       "      <td>'B00CCAC2CA'</td>\n",
       "      <td>NaN</td>\n",
       "      <td>NaN</td>\n",
       "      <td>623406</td>\n",
       "    </tr>\n",
       "    <tr>\n",
       "      <th>858371</th>\n",
       "      <td>1000</td>\n",
       "      <td>Batman Utility Belt</td>\n",
       "      <td>B000096QJ7</td>\n",
       "      <td>NaN</td>\n",
       "      <td>'B000N8S1GE', 'B0072ER5O6', 'B0099DPY6E', 'B00...</td>\n",
       "      <td>'B000N8Q56C', 'B000N8Q57Q', 'B00IIKENZ2', 'B00...</td>\n",
       "      <td>'B000N8Q56C', 'B000N8Q57Q', 'B00IIKENZ2', 'B00...</td>\n",
       "      <td>824301</td>\n",
       "    </tr>\n",
       "  </tbody>\n",
       "</table>\n",
       "</div>"
      ],
      "text/plain": [
       "       Unnamed: 0                                       product_name  \\\n",
       "88736           0  Purple Sequin Tiny Dancer Tutu Ballet Dance Fa...   \n",
       "874912          1                         Ballet Dress-Up Fairy Tutu   \n",
       "942872         10       Red Crocodile Embossed Leather Travel Wallet   \n",
       "732290        100  Shungite. Obereg GLAZ GORA Na podveske / Shung...   \n",
       "858371       1000                                Batman Utility Belt   \n",
       "\n",
       "        product_id item_price  \\\n",
       "88736   0000037214     440.37   \n",
       "874912  0000031887     427.77   \n",
       "942872  0641674791        NaN   \n",
       "732290  5699031936        NaN   \n",
       "858371  B000096QJ7        NaN   \n",
       "\n",
       "                                              also_viewed  \\\n",
       "88736            'B00JO8II76', 'B00DGN4R1Q', 'B00E1YRI4C'   \n",
       "874912  'B00E1YRI4C', 'B00D23MC6W', 'B00AFDOPDA', 'B00...   \n",
       "942872  'B00A8OV6R4', 'B00A8P5M96', 'B00A80A9EY', 'B00...   \n",
       "732290                                       'B00CCAC2CA'   \n",
       "858371  'B000N8S1GE', 'B0072ER5O6', 'B0099DPY6E', 'B00...   \n",
       "\n",
       "                                          bought_together  \\\n",
       "88736                                                 NaN   \n",
       "874912                                       'B00D23MC6W'   \n",
       "942872                                                NaN   \n",
       "732290                                                NaN   \n",
       "858371  'B000N8Q56C', 'B000N8Q57Q', 'B00IIKENZ2', 'B00...   \n",
       "\n",
       "                                              also_bought      rank  \n",
       "88736                                                 NaN   1233557  \n",
       "874912  '0000031852', '0000031895', '0000031909', 'B00...      8547  \n",
       "942872                                                NaN       NaN  \n",
       "732290                                                NaN    623406  \n",
       "858371  'B000N8Q56C', 'B000N8Q57Q', 'B00IIKENZ2', 'B00...    824301  "
      ]
     },
     "execution_count": 7,
     "metadata": {},
     "output_type": "execute_result"
    }
   ],
   "source": [
    "new_df.head()"
   ]
  },
  {
   "cell_type": "code",
   "execution_count": 2,
   "metadata": {
    "collapsed": true
   },
   "outputs": [],
   "source": [
    "old_df = pd.read_csv('Amazon product data.csv')"
   ]
  },
  {
   "cell_type": "code",
   "execution_count": 3,
   "metadata": {
    "collapsed": true
   },
   "outputs": [],
   "source": [
    "old_df = old_df.drop([\"related\", \"title\", \"price\", \"categories\",\"brand\", \"description\",\"imUrl\",\"asin\"],axis=1)"
   ]
  },
  {
   "cell_type": "code",
   "execution_count": 4,
   "metadata": {},
   "outputs": [
    {
     "data": {
      "text/html": [
       "<div>\n",
       "<style scoped>\n",
       "    .dataframe tbody tr th:only-of-type {\n",
       "        vertical-align: middle;\n",
       "    }\n",
       "\n",
       "    .dataframe tbody tr th {\n",
       "        vertical-align: top;\n",
       "    }\n",
       "\n",
       "    .dataframe thead th {\n",
       "        text-align: right;\n",
       "    }\n",
       "</style>\n",
       "<table border=\"1\" class=\"dataframe\">\n",
       "  <thead>\n",
       "    <tr style=\"text-align: right;\">\n",
       "      <th></th>\n",
       "      <th>salesRank</th>\n",
       "    </tr>\n",
       "  </thead>\n",
       "  <tbody>\n",
       "    <tr>\n",
       "      <th>0</th>\n",
       "      <td>{'Clothing': 1233557}</td>\n",
       "    </tr>\n",
       "    <tr>\n",
       "      <th>1</th>\n",
       "      <td>{'Sports &amp;amp; Outdoors': 8547}</td>\n",
       "    </tr>\n",
       "    <tr>\n",
       "      <th>2</th>\n",
       "      <td>{'Kitchen &amp; Dining': 16987}</td>\n",
       "    </tr>\n",
       "    <tr>\n",
       "      <th>3</th>\n",
       "      <td>{'Clothing': 1180499}</td>\n",
       "    </tr>\n",
       "    <tr>\n",
       "      <th>4</th>\n",
       "      <td>{'Clothing': 1038084}</td>\n",
       "    </tr>\n",
       "  </tbody>\n",
       "</table>\n",
       "</div>"
      ],
      "text/plain": [
       "                         salesRank\n",
       "0            {'Clothing': 1233557}\n",
       "1  {'Sports &amp; Outdoors': 8547}\n",
       "2      {'Kitchen & Dining': 16987}\n",
       "3            {'Clothing': 1180499}\n",
       "4            {'Clothing': 1038084}"
      ]
     },
     "execution_count": 4,
     "metadata": {},
     "output_type": "execute_result"
    }
   ],
   "source": [
    "old_df.head()"
   ]
  },
  {
   "cell_type": "code",
   "execution_count": 5,
   "metadata": {
    "collapsed": true
   },
   "outputs": [],
   "source": [
    "old_df.to_csv(\"Categories.csv\")"
   ]
  },
  {
   "cell_type": "code",
   "execution_count": null,
   "metadata": {
    "collapsed": true
   },
   "outputs": [],
   "source": [
    "rank = old_df['salesRank'].apply(lambda x: pd.Series(x.split(':')))"
   ]
  },
  {
   "cell_type": "code",
   "execution_count": 12,
   "metadata": {},
   "outputs": [
    {
     "data": {
      "text/plain": [
       "0              {'Clothing': 1233557}\n",
       "1    {'Sports &amp; Outdoors': 8547}\n",
       "2        {'Kitchen & Dining': 16987}\n",
       "3              {'Clothing': 1180499}\n",
       "4              {'Clothing': 1038084}\n",
       "Name: salesRank, dtype: object"
      ]
     },
     "execution_count": 12,
     "metadata": {},
     "output_type": "execute_result"
    }
   ],
   "source": [
    "rank.head()"
   ]
  },
  {
   "cell_type": "code",
   "execution_count": null,
   "metadata": {
    "collapsed": true
   },
   "outputs": [],
   "source": [
    "rank = rank.replace({'}': ''}, regex=True)\n",
    "rank = rank.replace({'{': ''}, regex=True)\n",
    "rank.head()"
   ]
  }
 ],
 "metadata": {
  "kernelspec": {
   "display_name": "Python 3",
   "language": "python",
   "name": "python3"
  },
  "language_info": {
   "codemirror_mode": {
    "name": "ipython",
    "version": 3
   },
   "file_extension": ".py",
   "mimetype": "text/x-python",
   "name": "python",
   "nbconvert_exporter": "python",
   "pygments_lexer": "ipython3",
   "version": "3.6.1"
  }
 },
 "nbformat": 4,
 "nbformat_minor": 2
}
