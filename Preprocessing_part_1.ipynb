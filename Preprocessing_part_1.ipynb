{
 "cells": [
  {
   "cell_type": "code",
   "execution_count": 1,
   "metadata": {
    "collapsed": true
   },
   "outputs": [],
   "source": [
    "# import json \n",
    "# import gzip \n",
    "# def parse(path): \n",
    "#     g = gzip.open(path, 'r') \n",
    "#     for l in g: \n",
    "#         yield json.dumps(eval(l)) "
   ]
  },
  {
   "cell_type": "code",
   "execution_count": 2,
   "metadata": {
    "collapsed": true
   },
   "outputs": [],
   "source": [
    "# f = open(\"output.strict\", 'w') \n",
    "# for l in parse(\"reviews_Video_Games.json.gz\"): \n",
    "#     f.write(l + '\\n')"
   ]
  },
  {
   "cell_type": "code",
   "execution_count": 2,
   "metadata": {
    "collapsed": true
   },
   "outputs": [],
   "source": [
    "import pandas as pd \n",
    "import gzip\n",
    "import numpy as np"
   ]
  },
  {
   "cell_type": "code",
   "execution_count": 2,
   "metadata": {
    "collapsed": true
   },
   "outputs": [],
   "source": [
    "def parse(path): \n",
    "    g = gzip.open(path, 'rb') \n",
    "    for l in g: \n",
    "        yield eval(l)"
   ]
  },
  {
   "cell_type": "code",
   "execution_count": 3,
   "metadata": {
    "collapsed": true
   },
   "outputs": [],
   "source": [
    "def getDF(path): \n",
    "    i = 0 \n",
    "    df = {} \n",
    "    for d in parse(path): \n",
    "        df[i] = d \n",
    "        i += 1 \n",
    "    return pd.DataFrame.from_dict(df, orient='index') "
   ]
  },
  {
   "cell_type": "code",
   "execution_count": 4,
   "metadata": {
    "collapsed": true
   },
   "outputs": [],
   "source": [
    "df = getDF('meta_Clothing_Shoes_and_Jewelry.json.gz') "
   ]
  },
  {
   "cell_type": "code",
   "execution_count": 6,
   "metadata": {
    "collapsed": true
   },
   "outputs": [],
   "source": [
    "# df = getDF('reviews_Clothing_Shoes_and_Jewelry_5.json.gz') "
   ]
  },
  {
   "cell_type": "code",
   "execution_count": 7,
   "metadata": {
    "collapsed": true
   },
   "outputs": [],
   "source": [
    "df.to_csv(\"Amazon product data.csv\", index = False)\n",
    "# dataframe = pd.read_csv('Amazon product data')"
   ]
  },
  {
   "cell_type": "code",
   "execution_count": null,
   "metadata": {
    "collapsed": true
   },
   "outputs": [],
   "source": [
    "# dataframe = pd.read_csv('Amazon product data')\n",
    "# dataframe.info()"
   ]
  },
  {
   "cell_type": "code",
   "execution_count": 5,
   "metadata": {
    "collapsed": true
   },
   "outputs": [],
   "source": [
    "# dataframe.loc[dataframe['asin'] == 'B00JO8II76']"
   ]
  },
  {
   "cell_type": "code",
   "execution_count": 90,
   "metadata": {
    "collapsed": true,
    "scrolled": true
   },
   "outputs": [],
   "source": [
    "# np.array(df['related'][1])"
   ]
  },
  {
   "cell_type": "code",
   "execution_count": 45,
   "metadata": {
    "collapsed": true
   },
   "outputs": [],
   "source": [
    "# data = json.dumps(json_data)"
   ]
  },
  {
   "cell_type": "code",
   "execution_count": 91,
   "metadata": {
    "collapsed": true
   },
   "outputs": [],
   "source": [
    "# val = pd.to_json(json_data)\n",
    "# player_link = json.dumps(data)\n",
    "# with open(\"player_list.json\", \"w\") as f:\n",
    "#     f.write(player_link)"
   ]
  },
  {
   "cell_type": "code",
   "execution_count": 92,
   "metadata": {
    "collapsed": true
   },
   "outputs": [],
   "source": [
    "# x = pd.read_json('player_list.json', index  = True)"
   ]
  },
  {
   "cell_type": "code",
   "execution_count": null,
   "metadata": {
    "collapsed": true
   },
   "outputs": [],
   "source": []
  },
  {
   "cell_type": "code",
   "execution_count": null,
   "metadata": {
    "collapsed": true
   },
   "outputs": [],
   "source": []
  },
  {
   "cell_type": "code",
   "execution_count": 52,
   "metadata": {
    "collapsed": true
   },
   "outputs": [],
   "source": [
    "# df = df[np.isfinite(df['price'])]"
   ]
  },
  {
   "cell_type": "code",
   "execution_count": 8,
   "metadata": {
    "collapsed": true
   },
   "outputs": [],
   "source": []
  },
  {
   "cell_type": "code",
   "execution_count": 93,
   "metadata": {
    "scrolled": true
   },
   "outputs": [
    {
     "data": {
      "text/html": [
       "<div>\n",
       "<style scoped>\n",
       "    .dataframe tbody tr th:only-of-type {\n",
       "        vertical-align: middle;\n",
       "    }\n",
       "\n",
       "    .dataframe tbody tr th {\n",
       "        vertical-align: top;\n",
       "    }\n",
       "\n",
       "    .dataframe thead th {\n",
       "        text-align: right;\n",
       "    }\n",
       "</style>\n",
       "<table border=\"1\" class=\"dataframe\">\n",
       "  <thead>\n",
       "    <tr style=\"text-align: right;\">\n",
       "      <th></th>\n",
       "      <th>salesRank</th>\n",
       "      <th>brand</th>\n",
       "      <th>categories</th>\n",
       "      <th>related</th>\n",
       "      <th>asin</th>\n",
       "      <th>title</th>\n",
       "      <th>price</th>\n",
       "      <th>product_name</th>\n",
       "    </tr>\n",
       "  </thead>\n",
       "  <tbody>\n",
       "    <tr>\n",
       "      <th>0</th>\n",
       "      <td>{'Clothing': 1233557}</td>\n",
       "      <td>Big Dreams</td>\n",
       "      <td>[['Clothing, Shoes &amp; Jewelry', 'Girls'], ['Clo...</td>\n",
       "      <td>{'also_viewed': ['B00JO8II76', 'B00DGN4R1Q', '...</td>\n",
       "      <td>0000037214</td>\n",
       "      <td>Purple Sequin Tiny Dancer Tutu Ballet Dance Fa...</td>\n",
       "      <td>6.99</td>\n",
       "      <td>Big Dreams,Purple Sequin Tiny Dancer Tutu Ball...</td>\n",
       "    </tr>\n",
       "    <tr>\n",
       "      <th>1</th>\n",
       "      <td>{'Sports &amp;amp; Outdoors': 8547}</td>\n",
       "      <td>Boutique Cutie</td>\n",
       "      <td>[['Clothing, Shoes &amp; Jewelry', 'Girls', 'Cloth...</td>\n",
       "      <td>{'also_viewed': ['B00E1YRI4C', 'B00D23MC6W', '...</td>\n",
       "      <td>0000031887</td>\n",
       "      <td>Ballet Dress-Up Fairy Tutu</td>\n",
       "      <td>6.79</td>\n",
       "      <td>Boutique Cutie,Ballet Dress-Up Fairy Tutu</td>\n",
       "    </tr>\n",
       "    <tr>\n",
       "      <th>2</th>\n",
       "      <td>{'Kitchen &amp; Dining': 16987}</td>\n",
       "      <td>NaN</td>\n",
       "      <td>[['Clothing, Shoes &amp; Jewelry', 'Novelty, Costu...</td>\n",
       "      <td>{'also_viewed': ['B0006JCGUM', 'B000BMTCK6', '...</td>\n",
       "      <td>0123456479</td>\n",
       "      <td>SHINING IMAGE HUGE PINK LEATHER JEWELRY BOX / ...</td>\n",
       "      <td>64.98</td>\n",
       "      <td>nan,SHINING IMAGE HUGE PINK LEATHER JEWELRY BO...</td>\n",
       "    </tr>\n",
       "    <tr>\n",
       "      <th>3</th>\n",
       "      <td>{'Clothing': 1180499}</td>\n",
       "      <td>NaN</td>\n",
       "      <td>[['Clothing, Shoes &amp; Jewelry', 'Women', 'Acces...</td>\n",
       "      <td>{'also_viewed': ['B008MTRT1O', 'B00BUG47S4', '...</td>\n",
       "      <td>0456844570</td>\n",
       "      <td>RiZ Women's Beautify Crafted &amp;frac12; Rimmed F...</td>\n",
       "      <td>NaN</td>\n",
       "      <td>nan,RiZ Women's Beautify Crafted &amp;frac12; Rimm...</td>\n",
       "    </tr>\n",
       "    <tr>\n",
       "      <th>4</th>\n",
       "      <td>{'Clothing': 1038084}</td>\n",
       "      <td>NaN</td>\n",
       "      <td>[['Clothing, Shoes &amp; Jewelry', 'Women', 'Acces...</td>\n",
       "      <td>{'also_viewed': ['B00A6JD8EA', 'B00BFL4FTA', '...</td>\n",
       "      <td>0456808574</td>\n",
       "      <td>Lantin White Visor Wrap Around Ski Style Aviat...</td>\n",
       "      <td>NaN</td>\n",
       "      <td>nan,Lantin White Visor Wrap Around Ski Style A...</td>\n",
       "    </tr>\n",
       "  </tbody>\n",
       "</table>\n",
       "</div>"
      ],
      "text/plain": [
       "                         salesRank           brand  \\\n",
       "0            {'Clothing': 1233557}      Big Dreams   \n",
       "1  {'Sports &amp; Outdoors': 8547}  Boutique Cutie   \n",
       "2      {'Kitchen & Dining': 16987}             NaN   \n",
       "3            {'Clothing': 1180499}             NaN   \n",
       "4            {'Clothing': 1038084}             NaN   \n",
       "\n",
       "                                          categories  \\\n",
       "0  [['Clothing, Shoes & Jewelry', 'Girls'], ['Clo...   \n",
       "1  [['Clothing, Shoes & Jewelry', 'Girls', 'Cloth...   \n",
       "2  [['Clothing, Shoes & Jewelry', 'Novelty, Costu...   \n",
       "3  [['Clothing, Shoes & Jewelry', 'Women', 'Acces...   \n",
       "4  [['Clothing, Shoes & Jewelry', 'Women', 'Acces...   \n",
       "\n",
       "                                             related        asin  \\\n",
       "0  {'also_viewed': ['B00JO8II76', 'B00DGN4R1Q', '...  0000037214   \n",
       "1  {'also_viewed': ['B00E1YRI4C', 'B00D23MC6W', '...  0000031887   \n",
       "2  {'also_viewed': ['B0006JCGUM', 'B000BMTCK6', '...  0123456479   \n",
       "3  {'also_viewed': ['B008MTRT1O', 'B00BUG47S4', '...  0456844570   \n",
       "4  {'also_viewed': ['B00A6JD8EA', 'B00BFL4FTA', '...  0456808574   \n",
       "\n",
       "                                               title  price  \\\n",
       "0  Purple Sequin Tiny Dancer Tutu Ballet Dance Fa...   6.99   \n",
       "1                         Ballet Dress-Up Fairy Tutu   6.79   \n",
       "2  SHINING IMAGE HUGE PINK LEATHER JEWELRY BOX / ...  64.98   \n",
       "3  RiZ Women's Beautify Crafted &frac12; Rimmed F...    NaN   \n",
       "4  Lantin White Visor Wrap Around Ski Style Aviat...    NaN   \n",
       "\n",
       "                                        product_name  \n",
       "0  Big Dreams,Purple Sequin Tiny Dancer Tutu Ball...  \n",
       "1          Boutique Cutie,Ballet Dress-Up Fairy Tutu  \n",
       "2  nan,SHINING IMAGE HUGE PINK LEATHER JEWELRY BO...  \n",
       "3  nan,RiZ Women's Beautify Crafted &frac12; Rimm...  \n",
       "4  nan,Lantin White Visor Wrap Around Ski Style A...  "
      ]
     },
     "execution_count": 93,
     "metadata": {},
     "output_type": "execute_result"
    }
   ],
   "source": [
    "df.head()"
   ]
  },
  {
   "cell_type": "code",
   "execution_count": null,
   "metadata": {
    "collapsed": true
   },
   "outputs": [],
   "source": [
    "# df = df.fillna(0)\n",
    "# df[\"product_name\"] = df[\"brand\"].map(str)+ str(',') + df[\"title\"]\n",
    "df[\"product_name\"] = df[\"title\"]\n",
    "df = df.drop([\"imUrl\",\"description\",\"title\"], axis = 1)"
   ]
  },
  {
   "cell_type": "code",
   "execution_count": 100,
   "metadata": {
    "collapsed": true
   },
   "outputs": [],
   "source": [
    "# df = df.dropna(subset=['related'])\n",
    "# df.head()"
   ]
  },
  {
   "cell_type": "code",
   "execution_count": 101,
   "metadata": {
    "collapsed": true
   },
   "outputs": [],
   "source": [
    "# df = df.dropna(subset=['title'])\n",
    "# df = df.dropna(subset=['salesRank'])"
   ]
  },
  {
   "cell_type": "code",
   "execution_count": 102,
   "metadata": {
    "collapsed": true
   },
   "outputs": [],
   "source": [
    "# dataframe = df"
   ]
  },
  {
   "cell_type": "code",
   "execution_count": null,
   "metadata": {
    "collapsed": true
   },
   "outputs": [],
   "source": [
    "df = df.drop([\"brand\"], axis = 1)"
   ]
  },
  {
   "cell_type": "code",
   "execution_count": 103,
   "metadata": {
    "collapsed": true
   },
   "outputs": [],
   "source": [
    "# dataframe.info()"
   ]
  },
  {
   "cell_type": "code",
   "execution_count": 104,
   "metadata": {},
   "outputs": [
    {
     "data": {
      "text/html": [
       "<div>\n",
       "<style scoped>\n",
       "    .dataframe tbody tr th:only-of-type {\n",
       "        vertical-align: middle;\n",
       "    }\n",
       "\n",
       "    .dataframe tbody tr th {\n",
       "        vertical-align: top;\n",
       "    }\n",
       "\n",
       "    .dataframe thead th {\n",
       "        text-align: right;\n",
       "    }\n",
       "</style>\n",
       "<table border=\"1\" class=\"dataframe\">\n",
       "  <thead>\n",
       "    <tr style=\"text-align: right;\">\n",
       "      <th></th>\n",
       "      <th>salesRank</th>\n",
       "      <th>brand</th>\n",
       "      <th>categories</th>\n",
       "      <th>related</th>\n",
       "      <th>asin</th>\n",
       "      <th>title</th>\n",
       "      <th>price</th>\n",
       "      <th>product_name</th>\n",
       "    </tr>\n",
       "  </thead>\n",
       "  <tbody>\n",
       "    <tr>\n",
       "      <th>0</th>\n",
       "      <td>{'Clothing': 1233557}</td>\n",
       "      <td>Big Dreams</td>\n",
       "      <td>[['Clothing, Shoes &amp; Jewelry', 'Girls'], ['Clo...</td>\n",
       "      <td>{'also_viewed': ['B00JO8II76', 'B00DGN4R1Q', '...</td>\n",
       "      <td>0000037214</td>\n",
       "      <td>Purple Sequin Tiny Dancer Tutu Ballet Dance Fa...</td>\n",
       "      <td>6.99</td>\n",
       "      <td>Purple Sequin Tiny Dancer Tutu Ballet Dance Fa...</td>\n",
       "    </tr>\n",
       "    <tr>\n",
       "      <th>1</th>\n",
       "      <td>{'Sports &amp;amp; Outdoors': 8547}</td>\n",
       "      <td>Boutique Cutie</td>\n",
       "      <td>[['Clothing, Shoes &amp; Jewelry', 'Girls', 'Cloth...</td>\n",
       "      <td>{'also_viewed': ['B00E1YRI4C', 'B00D23MC6W', '...</td>\n",
       "      <td>0000031887</td>\n",
       "      <td>Ballet Dress-Up Fairy Tutu</td>\n",
       "      <td>6.79</td>\n",
       "      <td>Ballet Dress-Up Fairy Tutu</td>\n",
       "    </tr>\n",
       "    <tr>\n",
       "      <th>2</th>\n",
       "      <td>{'Kitchen &amp; Dining': 16987}</td>\n",
       "      <td>NaN</td>\n",
       "      <td>[['Clothing, Shoes &amp; Jewelry', 'Novelty, Costu...</td>\n",
       "      <td>{'also_viewed': ['B0006JCGUM', 'B000BMTCK6', '...</td>\n",
       "      <td>0123456479</td>\n",
       "      <td>SHINING IMAGE HUGE PINK LEATHER JEWELRY BOX / ...</td>\n",
       "      <td>64.98</td>\n",
       "      <td>SHINING IMAGE HUGE PINK LEATHER JEWELRY BOX / ...</td>\n",
       "    </tr>\n",
       "    <tr>\n",
       "      <th>3</th>\n",
       "      <td>{'Clothing': 1180499}</td>\n",
       "      <td>NaN</td>\n",
       "      <td>[['Clothing, Shoes &amp; Jewelry', 'Women', 'Acces...</td>\n",
       "      <td>{'also_viewed': ['B008MTRT1O', 'B00BUG47S4', '...</td>\n",
       "      <td>0456844570</td>\n",
       "      <td>RiZ Women's Beautify Crafted &amp;frac12; Rimmed F...</td>\n",
       "      <td>NaN</td>\n",
       "      <td>RiZ Women's Beautify Crafted &amp;frac12; Rimmed F...</td>\n",
       "    </tr>\n",
       "    <tr>\n",
       "      <th>4</th>\n",
       "      <td>{'Clothing': 1038084}</td>\n",
       "      <td>NaN</td>\n",
       "      <td>[['Clothing, Shoes &amp; Jewelry', 'Women', 'Acces...</td>\n",
       "      <td>{'also_viewed': ['B00A6JD8EA', 'B00BFL4FTA', '...</td>\n",
       "      <td>0456808574</td>\n",
       "      <td>Lantin White Visor Wrap Around Ski Style Aviat...</td>\n",
       "      <td>NaN</td>\n",
       "      <td>Lantin White Visor Wrap Around Ski Style Aviat...</td>\n",
       "    </tr>\n",
       "  </tbody>\n",
       "</table>\n",
       "</div>"
      ],
      "text/plain": [
       "                         salesRank           brand  \\\n",
       "0            {'Clothing': 1233557}      Big Dreams   \n",
       "1  {'Sports &amp; Outdoors': 8547}  Boutique Cutie   \n",
       "2      {'Kitchen & Dining': 16987}             NaN   \n",
       "3            {'Clothing': 1180499}             NaN   \n",
       "4            {'Clothing': 1038084}             NaN   \n",
       "\n",
       "                                          categories  \\\n",
       "0  [['Clothing, Shoes & Jewelry', 'Girls'], ['Clo...   \n",
       "1  [['Clothing, Shoes & Jewelry', 'Girls', 'Cloth...   \n",
       "2  [['Clothing, Shoes & Jewelry', 'Novelty, Costu...   \n",
       "3  [['Clothing, Shoes & Jewelry', 'Women', 'Acces...   \n",
       "4  [['Clothing, Shoes & Jewelry', 'Women', 'Acces...   \n",
       "\n",
       "                                             related        asin  \\\n",
       "0  {'also_viewed': ['B00JO8II76', 'B00DGN4R1Q', '...  0000037214   \n",
       "1  {'also_viewed': ['B00E1YRI4C', 'B00D23MC6W', '...  0000031887   \n",
       "2  {'also_viewed': ['B0006JCGUM', 'B000BMTCK6', '...  0123456479   \n",
       "3  {'also_viewed': ['B008MTRT1O', 'B00BUG47S4', '...  0456844570   \n",
       "4  {'also_viewed': ['B00A6JD8EA', 'B00BFL4FTA', '...  0456808574   \n",
       "\n",
       "                                               title  price  \\\n",
       "0  Purple Sequin Tiny Dancer Tutu Ballet Dance Fa...   6.99   \n",
       "1                         Ballet Dress-Up Fairy Tutu   6.79   \n",
       "2  SHINING IMAGE HUGE PINK LEATHER JEWELRY BOX / ...  64.98   \n",
       "3  RiZ Women's Beautify Crafted &frac12; Rimmed F...    NaN   \n",
       "4  Lantin White Visor Wrap Around Ski Style Aviat...    NaN   \n",
       "\n",
       "                                        product_name  \n",
       "0  Purple Sequin Tiny Dancer Tutu Ballet Dance Fa...  \n",
       "1                         Ballet Dress-Up Fairy Tutu  \n",
       "2  SHINING IMAGE HUGE PINK LEATHER JEWELRY BOX / ...  \n",
       "3  RiZ Women's Beautify Crafted &frac12; Rimmed F...  \n",
       "4  Lantin White Visor Wrap Around Ski Style Aviat...  "
      ]
     },
     "execution_count": 104,
     "metadata": {},
     "output_type": "execute_result"
    }
   ],
   "source": [
    "df.head()"
   ]
  },
  {
   "cell_type": "code",
   "execution_count": 105,
   "metadata": {
    "collapsed": true
   },
   "outputs": [],
   "source": [
    "# dataframe = dataframe.drop([\"title\",\"brand\"], axis = 1)\n",
    "df = df.drop([\"categories\"], axis = 1)"
   ]
  },
  {
   "cell_type": "code",
   "execution_count": 106,
   "metadata": {},
   "outputs": [
    {
     "data": {
      "text/html": [
       "<div>\n",
       "<style scoped>\n",
       "    .dataframe tbody tr th:only-of-type {\n",
       "        vertical-align: middle;\n",
       "    }\n",
       "\n",
       "    .dataframe tbody tr th {\n",
       "        vertical-align: top;\n",
       "    }\n",
       "\n",
       "    .dataframe thead th {\n",
       "        text-align: right;\n",
       "    }\n",
       "</style>\n",
       "<table border=\"1\" class=\"dataframe\">\n",
       "  <thead>\n",
       "    <tr style=\"text-align: right;\">\n",
       "      <th></th>\n",
       "      <th>salesRank</th>\n",
       "      <th>brand</th>\n",
       "      <th>related</th>\n",
       "      <th>asin</th>\n",
       "      <th>title</th>\n",
       "      <th>price</th>\n",
       "      <th>product_name</th>\n",
       "    </tr>\n",
       "  </thead>\n",
       "  <tbody>\n",
       "    <tr>\n",
       "      <th>0</th>\n",
       "      <td>{'Clothing': 1233557}</td>\n",
       "      <td>Big Dreams</td>\n",
       "      <td>{'also_viewed': ['B00JO8II76', 'B00DGN4R1Q', '...</td>\n",
       "      <td>0000037214</td>\n",
       "      <td>Purple Sequin Tiny Dancer Tutu Ballet Dance Fa...</td>\n",
       "      <td>6.99</td>\n",
       "      <td>Purple Sequin Tiny Dancer Tutu Ballet Dance Fa...</td>\n",
       "    </tr>\n",
       "    <tr>\n",
       "      <th>1</th>\n",
       "      <td>{'Sports &amp;amp; Outdoors': 8547}</td>\n",
       "      <td>Boutique Cutie</td>\n",
       "      <td>{'also_viewed': ['B00E1YRI4C', 'B00D23MC6W', '...</td>\n",
       "      <td>0000031887</td>\n",
       "      <td>Ballet Dress-Up Fairy Tutu</td>\n",
       "      <td>6.79</td>\n",
       "      <td>Ballet Dress-Up Fairy Tutu</td>\n",
       "    </tr>\n",
       "    <tr>\n",
       "      <th>2</th>\n",
       "      <td>{'Kitchen &amp; Dining': 16987}</td>\n",
       "      <td>NaN</td>\n",
       "      <td>{'also_viewed': ['B0006JCGUM', 'B000BMTCK6', '...</td>\n",
       "      <td>0123456479</td>\n",
       "      <td>SHINING IMAGE HUGE PINK LEATHER JEWELRY BOX / ...</td>\n",
       "      <td>64.98</td>\n",
       "      <td>SHINING IMAGE HUGE PINK LEATHER JEWELRY BOX / ...</td>\n",
       "    </tr>\n",
       "    <tr>\n",
       "      <th>3</th>\n",
       "      <td>{'Clothing': 1180499}</td>\n",
       "      <td>NaN</td>\n",
       "      <td>{'also_viewed': ['B008MTRT1O', 'B00BUG47S4', '...</td>\n",
       "      <td>0456844570</td>\n",
       "      <td>RiZ Women's Beautify Crafted &amp;frac12; Rimmed F...</td>\n",
       "      <td>NaN</td>\n",
       "      <td>RiZ Women's Beautify Crafted &amp;frac12; Rimmed F...</td>\n",
       "    </tr>\n",
       "    <tr>\n",
       "      <th>4</th>\n",
       "      <td>{'Clothing': 1038084}</td>\n",
       "      <td>NaN</td>\n",
       "      <td>{'also_viewed': ['B00A6JD8EA', 'B00BFL4FTA', '...</td>\n",
       "      <td>0456808574</td>\n",
       "      <td>Lantin White Visor Wrap Around Ski Style Aviat...</td>\n",
       "      <td>NaN</td>\n",
       "      <td>Lantin White Visor Wrap Around Ski Style Aviat...</td>\n",
       "    </tr>\n",
       "  </tbody>\n",
       "</table>\n",
       "</div>"
      ],
      "text/plain": [
       "                         salesRank           brand  \\\n",
       "0            {'Clothing': 1233557}      Big Dreams   \n",
       "1  {'Sports &amp; Outdoors': 8547}  Boutique Cutie   \n",
       "2      {'Kitchen & Dining': 16987}             NaN   \n",
       "3            {'Clothing': 1180499}             NaN   \n",
       "4            {'Clothing': 1038084}             NaN   \n",
       "\n",
       "                                             related        asin  \\\n",
       "0  {'also_viewed': ['B00JO8II76', 'B00DGN4R1Q', '...  0000037214   \n",
       "1  {'also_viewed': ['B00E1YRI4C', 'B00D23MC6W', '...  0000031887   \n",
       "2  {'also_viewed': ['B0006JCGUM', 'B000BMTCK6', '...  0123456479   \n",
       "3  {'also_viewed': ['B008MTRT1O', 'B00BUG47S4', '...  0456844570   \n",
       "4  {'also_viewed': ['B00A6JD8EA', 'B00BFL4FTA', '...  0456808574   \n",
       "\n",
       "                                               title  price  \\\n",
       "0  Purple Sequin Tiny Dancer Tutu Ballet Dance Fa...   6.99   \n",
       "1                         Ballet Dress-Up Fairy Tutu   6.79   \n",
       "2  SHINING IMAGE HUGE PINK LEATHER JEWELRY BOX / ...  64.98   \n",
       "3  RiZ Women's Beautify Crafted &frac12; Rimmed F...    NaN   \n",
       "4  Lantin White Visor Wrap Around Ski Style Aviat...    NaN   \n",
       "\n",
       "                                        product_name  \n",
       "0  Purple Sequin Tiny Dancer Tutu Ballet Dance Fa...  \n",
       "1                         Ballet Dress-Up Fairy Tutu  \n",
       "2  SHINING IMAGE HUGE PINK LEATHER JEWELRY BOX / ...  \n",
       "3  RiZ Women's Beautify Crafted &frac12; Rimmed F...  \n",
       "4  Lantin White Visor Wrap Around Ski Style Aviat...  "
      ]
     },
     "execution_count": 106,
     "metadata": {},
     "output_type": "execute_result"
    }
   ],
   "source": [
    "df.head()"
   ]
  },
  {
   "cell_type": "code",
   "execution_count": 107,
   "metadata": {
    "collapsed": true
   },
   "outputs": [],
   "source": [
    "df[\"product_id\"] = df[\"asin\"]\n",
    "df = df.drop([\"asin\"],axis = 1)"
   ]
  },
  {
   "cell_type": "code",
   "execution_count": 108,
   "metadata": {},
   "outputs": [
    {
     "data": {
      "text/html": [
       "<div>\n",
       "<style scoped>\n",
       "    .dataframe tbody tr th:only-of-type {\n",
       "        vertical-align: middle;\n",
       "    }\n",
       "\n",
       "    .dataframe tbody tr th {\n",
       "        vertical-align: top;\n",
       "    }\n",
       "\n",
       "    .dataframe thead th {\n",
       "        text-align: right;\n",
       "    }\n",
       "</style>\n",
       "<table border=\"1\" class=\"dataframe\">\n",
       "  <thead>\n",
       "    <tr style=\"text-align: right;\">\n",
       "      <th></th>\n",
       "      <th>salesRank</th>\n",
       "      <th>brand</th>\n",
       "      <th>related</th>\n",
       "      <th>title</th>\n",
       "      <th>price</th>\n",
       "      <th>product_name</th>\n",
       "      <th>product_id</th>\n",
       "    </tr>\n",
       "  </thead>\n",
       "  <tbody>\n",
       "    <tr>\n",
       "      <th>0</th>\n",
       "      <td>{'Clothing': 1233557}</td>\n",
       "      <td>Big Dreams</td>\n",
       "      <td>{'also_viewed': ['B00JO8II76', 'B00DGN4R1Q', '...</td>\n",
       "      <td>Purple Sequin Tiny Dancer Tutu Ballet Dance Fa...</td>\n",
       "      <td>6.99</td>\n",
       "      <td>Purple Sequin Tiny Dancer Tutu Ballet Dance Fa...</td>\n",
       "      <td>0000037214</td>\n",
       "    </tr>\n",
       "    <tr>\n",
       "      <th>1</th>\n",
       "      <td>{'Sports &amp;amp; Outdoors': 8547}</td>\n",
       "      <td>Boutique Cutie</td>\n",
       "      <td>{'also_viewed': ['B00E1YRI4C', 'B00D23MC6W', '...</td>\n",
       "      <td>Ballet Dress-Up Fairy Tutu</td>\n",
       "      <td>6.79</td>\n",
       "      <td>Ballet Dress-Up Fairy Tutu</td>\n",
       "      <td>0000031887</td>\n",
       "    </tr>\n",
       "    <tr>\n",
       "      <th>2</th>\n",
       "      <td>{'Kitchen &amp; Dining': 16987}</td>\n",
       "      <td>NaN</td>\n",
       "      <td>{'also_viewed': ['B0006JCGUM', 'B000BMTCK6', '...</td>\n",
       "      <td>SHINING IMAGE HUGE PINK LEATHER JEWELRY BOX / ...</td>\n",
       "      <td>64.98</td>\n",
       "      <td>SHINING IMAGE HUGE PINK LEATHER JEWELRY BOX / ...</td>\n",
       "      <td>0123456479</td>\n",
       "    </tr>\n",
       "    <tr>\n",
       "      <th>3</th>\n",
       "      <td>{'Clothing': 1180499}</td>\n",
       "      <td>NaN</td>\n",
       "      <td>{'also_viewed': ['B008MTRT1O', 'B00BUG47S4', '...</td>\n",
       "      <td>RiZ Women's Beautify Crafted &amp;frac12; Rimmed F...</td>\n",
       "      <td>NaN</td>\n",
       "      <td>RiZ Women's Beautify Crafted &amp;frac12; Rimmed F...</td>\n",
       "      <td>0456844570</td>\n",
       "    </tr>\n",
       "    <tr>\n",
       "      <th>4</th>\n",
       "      <td>{'Clothing': 1038084}</td>\n",
       "      <td>NaN</td>\n",
       "      <td>{'also_viewed': ['B00A6JD8EA', 'B00BFL4FTA', '...</td>\n",
       "      <td>Lantin White Visor Wrap Around Ski Style Aviat...</td>\n",
       "      <td>NaN</td>\n",
       "      <td>Lantin White Visor Wrap Around Ski Style Aviat...</td>\n",
       "      <td>0456808574</td>\n",
       "    </tr>\n",
       "  </tbody>\n",
       "</table>\n",
       "</div>"
      ],
      "text/plain": [
       "                         salesRank           brand  \\\n",
       "0            {'Clothing': 1233557}      Big Dreams   \n",
       "1  {'Sports &amp; Outdoors': 8547}  Boutique Cutie   \n",
       "2      {'Kitchen & Dining': 16987}             NaN   \n",
       "3            {'Clothing': 1180499}             NaN   \n",
       "4            {'Clothing': 1038084}             NaN   \n",
       "\n",
       "                                             related  \\\n",
       "0  {'also_viewed': ['B00JO8II76', 'B00DGN4R1Q', '...   \n",
       "1  {'also_viewed': ['B00E1YRI4C', 'B00D23MC6W', '...   \n",
       "2  {'also_viewed': ['B0006JCGUM', 'B000BMTCK6', '...   \n",
       "3  {'also_viewed': ['B008MTRT1O', 'B00BUG47S4', '...   \n",
       "4  {'also_viewed': ['B00A6JD8EA', 'B00BFL4FTA', '...   \n",
       "\n",
       "                                               title  price  \\\n",
       "0  Purple Sequin Tiny Dancer Tutu Ballet Dance Fa...   6.99   \n",
       "1                         Ballet Dress-Up Fairy Tutu   6.79   \n",
       "2  SHINING IMAGE HUGE PINK LEATHER JEWELRY BOX / ...  64.98   \n",
       "3  RiZ Women's Beautify Crafted &frac12; Rimmed F...    NaN   \n",
       "4  Lantin White Visor Wrap Around Ski Style Aviat...    NaN   \n",
       "\n",
       "                                        product_name  product_id  \n",
       "0  Purple Sequin Tiny Dancer Tutu Ballet Dance Fa...  0000037214  \n",
       "1                         Ballet Dress-Up Fairy Tutu  0000031887  \n",
       "2  SHINING IMAGE HUGE PINK LEATHER JEWELRY BOX / ...  0123456479  \n",
       "3  RiZ Women's Beautify Crafted &frac12; Rimmed F...  0456844570  \n",
       "4  Lantin White Visor Wrap Around Ski Style Aviat...  0456808574  "
      ]
     },
     "execution_count": 108,
     "metadata": {},
     "output_type": "execute_result"
    }
   ],
   "source": [
    "df.head()"
   ]
  },
  {
   "cell_type": "code",
   "execution_count": 109,
   "metadata": {
    "collapsed": true
   },
   "outputs": [],
   "source": [
    "# related_split = pd.get_dummies(x)"
   ]
  },
  {
   "cell_type": "code",
   "execution_count": 110,
   "metadata": {
    "collapsed": true
   },
   "outputs": [],
   "source": [
    "# sales = dataframe['salesRank'].apply(lambda x: pd.Series(str(x).split(':')))"
   ]
  },
  {
   "cell_type": "code",
   "execution_count": 111,
   "metadata": {
    "collapsed": true
   },
   "outputs": [],
   "source": [
    "# dataframe.columns = dataframe.columns.map(lambda x: x.split(\".\")[-1])"
   ]
  },
  {
   "cell_type": "code",
   "execution_count": 112,
   "metadata": {
    "collapsed": true
   },
   "outputs": [],
   "source": [
    "# new = pd.Series(dataframe[\"related\"])"
   ]
  },
  {
   "cell_type": "code",
   "execution_count": null,
   "metadata": {
    "collapsed": true
   },
   "outputs": [],
   "source": []
  },
  {
   "cell_type": "code",
   "execution_count": 113,
   "metadata": {
    "collapsed": true
   },
   "outputs": [],
   "source": [
    "# x = np.array(dataframe[\"related\"])\n",
    "# x"
   ]
  },
  {
   "cell_type": "code",
   "execution_count": null,
   "metadata": {
    "collapsed": true
   },
   "outputs": [],
   "source": []
  },
  {
   "cell_type": "code",
   "execution_count": 114,
   "metadata": {
    "collapsed": true
   },
   "outputs": [],
   "source": [
    "#  np.array_split(3, x)"
   ]
  },
  {
   "cell_type": "code",
   "execution_count": 137,
   "metadata": {},
   "outputs": [
    {
     "data": {
      "text/plain": [
       "\"{'also_viewed': ['B00E1YRI4C', 'B00D23MC6W', 'B00AFDOPDA', 'B00538F5OK', 'B003AVKOP2', 'B008F0SU0Y', 'B004303OEW', 'B002GZPTRQ', 'B002GZGI4E', 'B00HSOJB9M', 'B003IEDM9Q', 'B008F0SMUC', 'B005C4Y4F6', 'B008UD01L2', 'B0071KR2LC', 'B00D0FCQQI', 'B004PYEE8G', 'B003AVNY6I', 'B002C3Y6WG', 'B003L2OASM', 'B00CEUWTFS', 'B004YHFSIO', 'B009RXWNSI', 'B00D2JSRFQ', 'B00I2EOG92', 'B00K18LJ6U', 'B00JHNSNSM', 'B0054TBWKO', 'B003AVEU6G', 'B00CEUWUZC', 'B00D103F8U', 'B00D2JTMS2', 'B008BMGHM4', 'B00CEUX0D8', 'B00JMX4CCS', 'B003WFSLBA', 'B00CEUWY8K', '0000032050', 'B00GOR07RE', 'B009V5DTDA', '0000032042', 'B00I3OX1II', 'B008X6CBS2', 'B007XAI4LW', 'B008UBQZKU', 'B00DPLLQR2', 'B007XAI53E', '0000032034', 'B00K18LKX2', 'B00IIK61WA', '0000031852', 'B004PEI45K', '0000031895', 'B00CEUX4QQ', 'B005HMHOQY', 'B008UBG5IW', 'B00E1Q66BG', 'B00HSOJKN4', 'B004ILT36Y'], 'bought_together': ['B00D23MC6W'], 'also_bought': ['0000031852', '0000031895', '0000031909', 'B00D2K1M3O', 'B00D10CLVW', 'B003AVKOP2', 'B00D103F8U', 'B00613WDTQ', 'B008F0SU0Y', 'B00D23MC6W', 'B00D0GCI8S', 'B00E1YRI4C', 'B008UBQZKU', 'B003AVEU6G', 'B008F0SMUC', 'B002C3Y6WG', 'B005JJ275S', 'B00D0WDS9A', 'B00EN6QXI0', 'B00D0ZF44Y', 'B00D2K0PA0', 'B00HSOJB9M', 'B00CF7G0UA', 'B003IEDM9Q', 'B005JJ274Y', 'B000G8GME4', 'B000IRG356', 'B003AVNY6I', 'B003WFQ42S', 'B005JJ2762', 'B00CEUWY8K', '0375843930', 'B00AFDOPDA', 'B00613VNL0', 'B004JBEYC6', 'B009QVCTTY', 'B00I1W2E1C', '0375851682', 'B005JJ2758', 'B002R0FABA', 'B002GZPTRQ', 'B005Z2UDEG', 'B002R0FA24', 'B002GZGI4E', 'B00CEUX0D8', 'B001V5XKC8', 'B00HSC8O74', 'B003UM99FC', 'B00538F5OK', 'B008LOSB2Q', 'B003ILA0L2', 'B002G9UFNK', 'B007Z7HSFG', 'B007XAI4LW', 'B004LHZ1NY', 'B003LTOZK8', '0000032034', 'B00CEV86I6', 'B003IRFOU8', 'B00BC4GY9Y', 'B00DJB65ME', 'B005BGOWJ8', 'B005Y0QYHY', 'B00498HUQ6', 'B0079MHVEA', 'B00ATBQSKG', 'B00I1VZPVY', 'B001QKHXEE', 'B004PEI45U', 'B000NZT2H4', 'B008C7PHOC', 'B00ATBQSL0', 'B00A8PUJ62', '0448408775', 'B008CLA6GW', 'B00DSJ6QGW', 'B008F0SY6O', 'B002R0F7FE', 'B00FAZ5ZE6', 'B00D8ERLL6', 'B008X6CBS2', 'B00D0FCQQI', 'B008UD01L2', 'B00D9C1WBM', 'B000VLO9JQ', 'B00CEUWUZC', 'B001GTKPEK', 'B002SJ7N42', 'B008HA0BDG', 'B000KIJP2Q', 'B00427XACM', 'B004BFI994', 'B00D2JTMS2', 'B001T9NUFS', 'B0046W9T8C']}\""
      ]
     },
     "execution_count": 137,
     "metadata": {},
     "output_type": "execute_result"
    }
   ],
   "source": [
    "df[\"related\"][1]"
   ]
  },
  {
   "cell_type": "code",
   "execution_count": null,
   "metadata": {
    "collapsed": true
   },
   "outputs": [],
   "source": []
  },
  {
   "cell_type": "raw",
   "metadata": {},
   "source": []
  },
  {
   "cell_type": "code",
   "execution_count": 115,
   "metadata": {
    "collapsed": true
   },
   "outputs": [],
   "source": [
    "# row = dataframe['']"
   ]
  },
  {
   "cell_type": "code",
   "execution_count": 116,
   "metadata": {
    "collapsed": true
   },
   "outputs": [],
   "source": [
    "# dd = df"
   ]
  },
  {
   "cell_type": "code",
   "execution_count": 117,
   "metadata": {
    "collapsed": true
   },
   "outputs": [],
   "source": [
    "# df2 = dd.iloc[:3]"
   ]
  },
  {
   "cell_type": "code",
   "execution_count": 125,
   "metadata": {},
   "outputs": [
    {
     "name": "stdout",
     "output_type": "stream",
     "text": [
      "<class 'pandas.core.frame.DataFrame'>\n",
      "Int64Index: 1001533 entries, 0 to 1503382\n",
      "Data columns (total 7 columns):\n",
      "salesRank       1001533 non-null object\n",
      "brand           77493 non-null object\n",
      "related         1001533 non-null object\n",
      "title           1001533 non-null object\n",
      "price           460425 non-null float64\n",
      "product_name    1001533 non-null object\n",
      "product_id      1001533 non-null object\n",
      "dtypes: float64(1), object(6)\n",
      "memory usage: 61.1+ MB\n"
     ]
    }
   ],
   "source": [
    "df.info()"
   ]
  },
  {
   "cell_type": "code",
   "execution_count": 131,
   "metadata": {
    "collapsed": true
   },
   "outputs": [],
   "source": [
    "sales = df.iloc[:0]"
   ]
  },
  {
   "cell_type": "code",
   "execution_count": 133,
   "metadata": {
    "collapsed": true
   },
   "outputs": [],
   "source": [
    "sales[\"related\"] = df[\"related\"]"
   ]
  },
  {
   "cell_type": "code",
   "execution_count": 135,
   "metadata": {
    "collapsed": true
   },
   "outputs": [],
   "source": [
    "sales=sales.dropna(axis=1,how='all')"
   ]
  },
  {
   "cell_type": "code",
   "execution_count": 138,
   "metadata": {
    "collapsed": true
   },
   "outputs": [],
   "source": [
    "sales = sales['related'].apply(lambda x: pd.Series(str(x).split('],')))"
   ]
  },
  {
   "cell_type": "code",
   "execution_count": 140,
   "metadata": {},
   "outputs": [
    {
     "data": {
      "text/html": [
       "<div>\n",
       "<style scoped>\n",
       "    .dataframe tbody tr th:only-of-type {\n",
       "        vertical-align: middle;\n",
       "    }\n",
       "\n",
       "    .dataframe tbody tr th {\n",
       "        vertical-align: top;\n",
       "    }\n",
       "\n",
       "    .dataframe thead th {\n",
       "        text-align: right;\n",
       "    }\n",
       "</style>\n",
       "<table border=\"1\" class=\"dataframe\">\n",
       "  <thead>\n",
       "    <tr style=\"text-align: right;\">\n",
       "      <th></th>\n",
       "      <th>0</th>\n",
       "      <th>1</th>\n",
       "      <th>2</th>\n",
       "    </tr>\n",
       "  </thead>\n",
       "  <tbody>\n",
       "    <tr>\n",
       "      <th>0</th>\n",
       "      <td>{'also_viewed': ['B00JO8II76', 'B00DGN4R1Q', '...</td>\n",
       "      <td>NaN</td>\n",
       "      <td>NaN</td>\n",
       "    </tr>\n",
       "    <tr>\n",
       "      <th>1</th>\n",
       "      <td>{'also_viewed': ['B00E1YRI4C', 'B00D23MC6W', '...</td>\n",
       "      <td>'bought_together': ['B00D23MC6W'</td>\n",
       "      <td>'also_bought': ['0000031852', '0000031895', '...</td>\n",
       "    </tr>\n",
       "    <tr>\n",
       "      <th>2</th>\n",
       "      <td>{'also_viewed': ['B0006JCGUM', 'B000BMTCK6', '...</td>\n",
       "      <td>'bought_together': ['B000BMTCK6', 'B0006JCGUM'</td>\n",
       "      <td>'also_bought': ['B000BMTCK6', 'B0006JCGUM', '...</td>\n",
       "    </tr>\n",
       "    <tr>\n",
       "      <th>3</th>\n",
       "      <td>{'also_viewed': ['B008MTRT1O', 'B00BUG47S4', '...</td>\n",
       "      <td>NaN</td>\n",
       "      <td>NaN</td>\n",
       "    </tr>\n",
       "    <tr>\n",
       "      <th>4</th>\n",
       "      <td>{'also_viewed': ['B00A6JD8EA', 'B00BFL4FTA', '...</td>\n",
       "      <td>NaN</td>\n",
       "      <td>NaN</td>\n",
       "    </tr>\n",
       "  </tbody>\n",
       "</table>\n",
       "</div>"
      ],
      "text/plain": [
       "                                                   0  \\\n",
       "0  {'also_viewed': ['B00JO8II76', 'B00DGN4R1Q', '...   \n",
       "1  {'also_viewed': ['B00E1YRI4C', 'B00D23MC6W', '...   \n",
       "2  {'also_viewed': ['B0006JCGUM', 'B000BMTCK6', '...   \n",
       "3  {'also_viewed': ['B008MTRT1O', 'B00BUG47S4', '...   \n",
       "4  {'also_viewed': ['B00A6JD8EA', 'B00BFL4FTA', '...   \n",
       "\n",
       "                                                 1  \\\n",
       "0                                              NaN   \n",
       "1                 'bought_together': ['B00D23MC6W'   \n",
       "2   'bought_together': ['B000BMTCK6', 'B0006JCGUM'   \n",
       "3                                              NaN   \n",
       "4                                              NaN   \n",
       "\n",
       "                                                   2  \n",
       "0                                                NaN  \n",
       "1   'also_bought': ['0000031852', '0000031895', '...  \n",
       "2   'also_bought': ['B000BMTCK6', 'B0006JCGUM', '...  \n",
       "3                                                NaN  \n",
       "4                                                NaN  "
      ]
     },
     "execution_count": 140,
     "metadata": {},
     "output_type": "execute_result"
    }
   ],
   "source": [
    "sales.head()"
   ]
  },
  {
   "cell_type": "code",
   "execution_count": 142,
   "metadata": {
    "collapsed": true
   },
   "outputs": [],
   "source": [
    "sales.to_csv('Sales.csv')"
   ]
  },
  {
   "cell_type": "code",
   "execution_count": null,
   "metadata": {
    "collapsed": true
   },
   "outputs": [],
   "source": [
    "also_viewed = sales[0].apply(lambda x: pd.Series(str(x).split(': [')))"
   ]
  },
  {
   "cell_type": "code",
   "execution_count": null,
   "metadata": {
    "collapsed": true
   },
   "outputs": [],
   "source": [
    "bought_together = sales[1].apply(lambda x: pd.Series(str(x).split(': [')))\n"
   ]
  },
  {
   "cell_type": "code",
   "execution_count": 67,
   "metadata": {
    "collapsed": true
   },
   "outputs": [],
   "source": [
    "reco = sales"
   ]
  },
  {
   "cell_type": "code",
   "execution_count": 68,
   "metadata": {},
   "outputs": [
    {
     "data": {
      "text/html": [
       "<div>\n",
       "<style scoped>\n",
       "    .dataframe tbody tr th:only-of-type {\n",
       "        vertical-align: middle;\n",
       "    }\n",
       "\n",
       "    .dataframe tbody tr th {\n",
       "        vertical-align: top;\n",
       "    }\n",
       "\n",
       "    .dataframe thead th {\n",
       "        text-align: right;\n",
       "    }\n",
       "</style>\n",
       "<table border=\"1\" class=\"dataframe\">\n",
       "  <thead>\n",
       "    <tr style=\"text-align: right;\">\n",
       "      <th></th>\n",
       "      <th>0</th>\n",
       "      <th>1</th>\n",
       "      <th>2</th>\n",
       "    </tr>\n",
       "  </thead>\n",
       "  <tbody>\n",
       "    <tr>\n",
       "      <th>0</th>\n",
       "      <td>{'also_viewed': ['B00JO8II76', 'B00DGN4R1Q', '...</td>\n",
       "      <td>NaN</td>\n",
       "      <td>NaN</td>\n",
       "    </tr>\n",
       "    <tr>\n",
       "      <th>1</th>\n",
       "      <td>{'also_viewed': ['B00E1YRI4C', 'B00D23MC6W', '...</td>\n",
       "      <td>'bought_together': ['B00D23MC6W'</td>\n",
       "      <td>'also_bought': ['0000031852', '0000031895', '...</td>\n",
       "    </tr>\n",
       "    <tr>\n",
       "      <th>2</th>\n",
       "      <td>{'also_viewed': ['B0006JCGUM', 'B000BMTCK6', '...</td>\n",
       "      <td>'bought_together': ['B000BMTCK6', 'B0006JCGUM'</td>\n",
       "      <td>'also_bought': ['B000BMTCK6', 'B0006JCGUM', '...</td>\n",
       "    </tr>\n",
       "  </tbody>\n",
       "</table>\n",
       "</div>"
      ],
      "text/plain": [
       "                                                   0  \\\n",
       "0  {'also_viewed': ['B00JO8II76', 'B00DGN4R1Q', '...   \n",
       "1  {'also_viewed': ['B00E1YRI4C', 'B00D23MC6W', '...   \n",
       "2  {'also_viewed': ['B0006JCGUM', 'B000BMTCK6', '...   \n",
       "\n",
       "                                                 1  \\\n",
       "0                                              NaN   \n",
       "1                 'bought_together': ['B00D23MC6W'   \n",
       "2   'bought_together': ['B000BMTCK6', 'B0006JCGUM'   \n",
       "\n",
       "                                                   2  \n",
       "0                                                NaN  \n",
       "1   'also_bought': ['0000031852', '0000031895', '...  \n",
       "2   'also_bought': ['B000BMTCK6', 'B0006JCGUM', '...  "
      ]
     },
     "execution_count": 68,
     "metadata": {},
     "output_type": "execute_result"
    }
   ],
   "source": [
    "reco.head()"
   ]
  },
  {
   "cell_type": "code",
   "execution_count": 69,
   "metadata": {
    "collapsed": true
   },
   "outputs": [],
   "source": [
    "reco['also_viewed'] = also_viewed[1]\n",
    "reco['bought_together'] = bought_together[1]\n",
    "reco['also_bought'] = also_bought[1]\n",
    "\n"
   ]
  },
  {
   "cell_type": "code",
   "execution_count": null,
   "metadata": {
    "collapsed": true
   },
   "outputs": [],
   "source": [
    "reco = reco.drop([0,1,2], axis=1)"
   ]
  },
  {
   "cell_type": "code",
   "execution_count": 83,
   "metadata": {},
   "outputs": [
    {
     "data": {
      "text/html": [
       "<div>\n",
       "<style scoped>\n",
       "    .dataframe tbody tr th:only-of-type {\n",
       "        vertical-align: middle;\n",
       "    }\n",
       "\n",
       "    .dataframe tbody tr th {\n",
       "        vertical-align: top;\n",
       "    }\n",
       "\n",
       "    .dataframe thead th {\n",
       "        text-align: right;\n",
       "    }\n",
       "</style>\n",
       "<table border=\"1\" class=\"dataframe\">\n",
       "  <thead>\n",
       "    <tr style=\"text-align: right;\">\n",
       "      <th></th>\n",
       "      <th>also_viewed</th>\n",
       "      <th>bought_together</th>\n",
       "      <th>also_bought</th>\n",
       "    </tr>\n",
       "  </thead>\n",
       "  <tbody>\n",
       "    <tr>\n",
       "      <th>0</th>\n",
       "      <td>'B00JO8II76', 'B00DGN4R1Q', 'B00E1YRI4C']}</td>\n",
       "      <td>NaN</td>\n",
       "      <td>NaN</td>\n",
       "    </tr>\n",
       "    <tr>\n",
       "      <th>1</th>\n",
       "      <td>'B00E1YRI4C', 'B00D23MC6W', 'B00AFDOPDA', 'B00...</td>\n",
       "      <td>'B00D23MC6W'</td>\n",
       "      <td>'0000031852', '0000031895', '0000031909', 'B00...</td>\n",
       "    </tr>\n",
       "    <tr>\n",
       "      <th>2</th>\n",
       "      <td>'B0006JCGUM', 'B000BMTCK6', 'B00194Q262', 'B00...</td>\n",
       "      <td>'B000BMTCK6', 'B0006JCGUM'</td>\n",
       "      <td>'B000BMTCK6', 'B0006JCGUM', 'B00194Q262', 'B00...</td>\n",
       "    </tr>\n",
       "  </tbody>\n",
       "</table>\n",
       "</div>"
      ],
      "text/plain": [
       "                                         also_viewed  \\\n",
       "0         'B00JO8II76', 'B00DGN4R1Q', 'B00E1YRI4C']}   \n",
       "1  'B00E1YRI4C', 'B00D23MC6W', 'B00AFDOPDA', 'B00...   \n",
       "2  'B0006JCGUM', 'B000BMTCK6', 'B00194Q262', 'B00...   \n",
       "\n",
       "              bought_together  \\\n",
       "0                         NaN   \n",
       "1                'B00D23MC6W'   \n",
       "2  'B000BMTCK6', 'B0006JCGUM'   \n",
       "\n",
       "                                         also_bought  \n",
       "0                                                NaN  \n",
       "1  '0000031852', '0000031895', '0000031909', 'B00...  \n",
       "2  'B000BMTCK6', 'B0006JCGUM', 'B00194Q262', 'B00...  "
      ]
     },
     "execution_count": 83,
     "metadata": {},
     "output_type": "execute_result"
    }
   ],
   "source": [
    "reco.head()"
   ]
  },
  {
   "cell_type": "code",
   "execution_count": 85,
   "metadata": {
    "collapsed": true
   },
   "outputs": [],
   "source": [
    "reco = reco.replace({']}': ''}, regex=True)"
   ]
  },
  {
   "cell_type": "code",
   "execution_count": 86,
   "metadata": {},
   "outputs": [
    {
     "data": {
      "text/html": [
       "<div>\n",
       "<style scoped>\n",
       "    .dataframe tbody tr th:only-of-type {\n",
       "        vertical-align: middle;\n",
       "    }\n",
       "\n",
       "    .dataframe tbody tr th {\n",
       "        vertical-align: top;\n",
       "    }\n",
       "\n",
       "    .dataframe thead th {\n",
       "        text-align: right;\n",
       "    }\n",
       "</style>\n",
       "<table border=\"1\" class=\"dataframe\">\n",
       "  <thead>\n",
       "    <tr style=\"text-align: right;\">\n",
       "      <th></th>\n",
       "      <th>also_viewed</th>\n",
       "      <th>bought_together</th>\n",
       "      <th>also_bought</th>\n",
       "    </tr>\n",
       "  </thead>\n",
       "  <tbody>\n",
       "    <tr>\n",
       "      <th>0</th>\n",
       "      <td>'B00JO8II76', 'B00DGN4R1Q', 'B00E1YRI4C'</td>\n",
       "      <td>NaN</td>\n",
       "      <td>NaN</td>\n",
       "    </tr>\n",
       "    <tr>\n",
       "      <th>1</th>\n",
       "      <td>'B00E1YRI4C', 'B00D23MC6W', 'B00AFDOPDA', 'B00...</td>\n",
       "      <td>'B00D23MC6W'</td>\n",
       "      <td>'0000031852', '0000031895', '0000031909', 'B00...</td>\n",
       "    </tr>\n",
       "    <tr>\n",
       "      <th>2</th>\n",
       "      <td>'B0006JCGUM', 'B000BMTCK6', 'B00194Q262', 'B00...</td>\n",
       "      <td>'B000BMTCK6', 'B0006JCGUM'</td>\n",
       "      <td>'B000BMTCK6', 'B0006JCGUM', 'B00194Q262', 'B00...</td>\n",
       "    </tr>\n",
       "  </tbody>\n",
       "</table>\n",
       "</div>"
      ],
      "text/plain": [
       "                                         also_viewed  \\\n",
       "0           'B00JO8II76', 'B00DGN4R1Q', 'B00E1YRI4C'   \n",
       "1  'B00E1YRI4C', 'B00D23MC6W', 'B00AFDOPDA', 'B00...   \n",
       "2  'B0006JCGUM', 'B000BMTCK6', 'B00194Q262', 'B00...   \n",
       "\n",
       "              bought_together  \\\n",
       "0                         NaN   \n",
       "1                'B00D23MC6W'   \n",
       "2  'B000BMTCK6', 'B0006JCGUM'   \n",
       "\n",
       "                                         also_bought  \n",
       "0                                                NaN  \n",
       "1  '0000031852', '0000031895', '0000031909', 'B00...  \n",
       "2  'B000BMTCK6', 'B0006JCGUM', 'B00194Q262', 'B00...  "
      ]
     },
     "execution_count": 86,
     "metadata": {},
     "output_type": "execute_result"
    }
   ],
   "source": [
    "reco.head()"
   ]
  }
 ],
 "metadata": {
  "kernelspec": {
   "display_name": "Python 3",
   "language": "python",
   "name": "python3"
  },
  "language_info": {
   "codemirror_mode": {
    "name": "ipython",
    "version": 3
   },
   "file_extension": ".py",
   "mimetype": "text/x-python",
   "name": "python",
   "nbconvert_exporter": "python",
   "pygments_lexer": "ipython3",
   "version": "3.6.1"
  }
 },
 "nbformat": 4,
 "nbformat_minor": 2
}
